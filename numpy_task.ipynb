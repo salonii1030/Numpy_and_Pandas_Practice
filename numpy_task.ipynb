{
  "nbformat": 4,
  "nbformat_minor": 0,
  "metadata": {
    "colab": {
      "name": "numpy_task.ipynb",
      "provenance": [],
      "collapsed_sections": [],
      "authorship_tag": "ABX9TyNKdtWhcoJKXDP6zpslTfXv",
      "include_colab_link": true
    },
    "kernelspec": {
      "name": "python3",
      "display_name": "Python 3"
    },
    "language_info": {
      "name": "python"
    }
  },
  "cells": [
    {
      "cell_type": "markdown",
      "metadata": {
        "id": "view-in-github",
        "colab_type": "text"
      },
      "source": [
        "<a href=\"https://colab.research.google.com/github/salonii1030/Numpy_and_Pandas_Task/blob/main/numpy_task.ipynb\" target=\"_parent\"><img src=\"https://colab.research.google.com/assets/colab-badge.svg\" alt=\"Open In Colab\"/></a>"
      ]
    },
    {
      "cell_type": "markdown",
      "metadata": {
        "id": "Kpgr_xzaxCI6"
      },
      "source": [
        "# Numpy\n",
        "\n"
      ]
    },
    {
      "cell_type": "markdown",
      "metadata": {
        "id": "BNdc5cSSxCI-"
      },
      "source": [
        "#### 1. Import the numpy package under the name `np` (★☆☆) \n",
        "(**hint**: import … as …)"
      ]
    },
    {
      "cell_type": "code",
      "execution_count": 2,
      "metadata": {
        "collapsed": true,
        "id": "M8zr2W0sxCI_"
      },
      "outputs": [],
      "source": [
        "import numpy as np"
      ]
    },
    {
      "cell_type": "markdown",
      "metadata": {
        "id": "2KFrgT7HxCJA"
      },
      "source": [
        "#### 2. Print the numpy version and the configuration (★☆☆) \n",
        "(**hint**: np.\\_\\_version\\_\\_, np.show\\_config)"
      ]
    },
    {
      "cell_type": "code",
      "execution_count": null,
      "metadata": {
        "id": "Izvwr3f9xCJA",
        "colab": {
          "base_uri": "https://localhost:8080/"
        },
        "outputId": "f6900634-5b37-4352-ba43-bbb6574ba539"
      },
      "outputs": [
        {
          "output_type": "stream",
          "name": "stdout",
          "text": [
            "1.21.6\n",
            "blas_mkl_info:\n",
            "  NOT AVAILABLE\n",
            "blis_info:\n",
            "  NOT AVAILABLE\n",
            "openblas_info:\n",
            "    libraries = ['openblas', 'openblas']\n",
            "    library_dirs = ['/usr/local/lib']\n",
            "    language = c\n",
            "    define_macros = [('HAVE_CBLAS', None)]\n",
            "    runtime_library_dirs = ['/usr/local/lib']\n",
            "blas_opt_info:\n",
            "    libraries = ['openblas', 'openblas']\n",
            "    library_dirs = ['/usr/local/lib']\n",
            "    language = c\n",
            "    define_macros = [('HAVE_CBLAS', None)]\n",
            "    runtime_library_dirs = ['/usr/local/lib']\n",
            "lapack_mkl_info:\n",
            "  NOT AVAILABLE\n",
            "openblas_lapack_info:\n",
            "    libraries = ['openblas', 'openblas']\n",
            "    library_dirs = ['/usr/local/lib']\n",
            "    language = c\n",
            "    define_macros = [('HAVE_CBLAS', None)]\n",
            "    runtime_library_dirs = ['/usr/local/lib']\n",
            "lapack_opt_info:\n",
            "    libraries = ['openblas', 'openblas']\n",
            "    library_dirs = ['/usr/local/lib']\n",
            "    language = c\n",
            "    define_macros = [('HAVE_CBLAS', None)]\n",
            "    runtime_library_dirs = ['/usr/local/lib']\n",
            "Supported SIMD extensions in this NumPy install:\n",
            "    baseline = SSE,SSE2,SSE3\n",
            "    found = SSSE3,SSE41,POPCNT,SSE42,AVX,F16C,FMA3,AVX2\n",
            "    not found = AVX512F,AVX512CD,AVX512_KNL,AVX512_KNM,AVX512_SKX,AVX512_CLX,AVX512_CNL,AVX512_ICL\n",
            "None\n"
          ]
        }
      ],
      "source": [
        "print(np.__version__)\n",
        "print(np.show_config())"
      ]
    },
    {
      "cell_type": "markdown",
      "metadata": {
        "id": "udDiNQNKxCJA"
      },
      "source": [
        "#### 3. Create a null vector of size 10 (★☆☆) \n",
        "(**hint**: np.zeros)"
      ]
    },
    {
      "cell_type": "code",
      "execution_count": null,
      "metadata": {
        "id": "LW7gxKouxCJB",
        "colab": {
          "base_uri": "https://localhost:8080/"
        },
        "outputId": "bc0b9d81-c280-4186-c2b7-17bd3dce2f58"
      },
      "outputs": [
        {
          "output_type": "execute_result",
          "data": {
            "text/plain": [
              "array([0., 0., 0., 0., 0., 0., 0., 0., 0., 0.])"
            ]
          },
          "metadata": {},
          "execution_count": 3
        }
      ],
      "source": [
        "np.zeros(10)"
      ]
    },
    {
      "cell_type": "markdown",
      "metadata": {
        "id": "fYJDSlMqxCJB"
      },
      "source": [
        "#### 4.  How to find the memory size of any array (★☆☆) \n",
        "(**hint**: size, itemsize)"
      ]
    },
    {
      "cell_type": "code",
      "execution_count": null,
      "metadata": {
        "id": "8-NQkz_jxCJC",
        "colab": {
          "base_uri": "https://localhost:8080/"
        },
        "outputId": "b95ae79a-668b-48bd-c0fa-cb180577957d"
      },
      "outputs": [
        {
          "output_type": "stream",
          "name": "stdout",
          "text": [
            "Memory Size of array:  32\n"
          ]
        }
      ],
      "source": [
        "arr = np.array([[1,2],[4,5]])\n",
        "s = arr.size\n",
        "ts = arr.itemsize\n",
        "print(\"Memory Size of array: \",(s*ts))"
      ]
    },
    {
      "cell_type": "markdown",
      "metadata": {
        "id": "d5lkswWyxCJC"
      },
      "source": [
        "#### 5.  How to get the documentation of the numpy add function from the command line? (★☆☆) \n",
        "(**hint**: np.info)"
      ]
    },
    {
      "cell_type": "code",
      "execution_count": null,
      "metadata": {
        "collapsed": true,
        "id": "ZW6hmTYYxCJC",
        "colab": {
          "base_uri": "https://localhost:8080/"
        },
        "outputId": "cac29600-715c-4e4d-cc91-21389e9b25a9"
      },
      "outputs": [
        {
          "output_type": "stream",
          "name": "stdout",
          "text": [
            "add(x1, x2, /, out=None, *, where=True, casting='same_kind', order='K', dtype=None, subok=True[, signature, extobj])\n",
            "\n",
            "Add arguments element-wise.\n",
            "\n",
            "Parameters\n",
            "----------\n",
            "x1, x2 : array_like\n",
            "    The arrays to be added.\n",
            "    If ``x1.shape != x2.shape``, they must be broadcastable to a common\n",
            "    shape (which becomes the shape of the output).\n",
            "out : ndarray, None, or tuple of ndarray and None, optional\n",
            "    A location into which the result is stored. If provided, it must have\n",
            "    a shape that the inputs broadcast to. If not provided or None,\n",
            "    a freshly-allocated array is returned. A tuple (possible only as a\n",
            "    keyword argument) must have length equal to the number of outputs.\n",
            "where : array_like, optional\n",
            "    This condition is broadcast over the input. At locations where the\n",
            "    condition is True, the `out` array will be set to the ufunc result.\n",
            "    Elsewhere, the `out` array will retain its original value.\n",
            "    Note that if an uninitialized `out` array is created via the default\n",
            "    ``out=None``, locations within it where the condition is False will\n",
            "    remain uninitialized.\n",
            "**kwargs\n",
            "    For other keyword-only arguments, see the\n",
            "    :ref:`ufunc docs <ufuncs.kwargs>`.\n",
            "\n",
            "Returns\n",
            "-------\n",
            "add : ndarray or scalar\n",
            "    The sum of `x1` and `x2`, element-wise.\n",
            "    This is a scalar if both `x1` and `x2` are scalars.\n",
            "\n",
            "Notes\n",
            "-----\n",
            "Equivalent to `x1` + `x2` in terms of array broadcasting.\n",
            "\n",
            "Examples\n",
            "--------\n",
            ">>> np.add(1.0, 4.0)\n",
            "5.0\n",
            ">>> x1 = np.arange(9.0).reshape((3, 3))\n",
            ">>> x2 = np.arange(3.0)\n",
            ">>> np.add(x1, x2)\n",
            "array([[  0.,   2.,   4.],\n",
            "       [  3.,   5.,   7.],\n",
            "       [  6.,   8.,  10.]])\n",
            "\n",
            "The ``+`` operator can be used as a shorthand for ``np.add`` on ndarrays.\n",
            "\n",
            ">>> x1 = np.arange(9.0).reshape((3, 3))\n",
            ">>> x2 = np.arange(3.0)\n",
            ">>> x1 + x2\n",
            "array([[ 0.,  2.,  4.],\n",
            "       [ 3.,  5.,  7.],\n",
            "       [ 6.,  8., 10.]])\n"
          ]
        }
      ],
      "source": [
        "np.info(np.add)"
      ]
    },
    {
      "cell_type": "markdown",
      "metadata": {
        "id": "N7MpNUA6xCJD"
      },
      "source": [
        "#### 6.  Create a null vector of size 10 but the fifth value which is 1 (★☆☆) \n",
        "(**hint**: array\\[4\\])"
      ]
    },
    {
      "cell_type": "code",
      "execution_count": null,
      "metadata": {
        "id": "DRGuWSM-xCJD",
        "colab": {
          "base_uri": "https://localhost:8080/"
        },
        "outputId": "0d4a236e-8cf0-4db3-917c-8f25cedb04bb"
      },
      "outputs": [
        {
          "output_type": "stream",
          "name": "stdout",
          "text": [
            "[0. 0. 0. 0. 1. 0. 0. 0. 0. 0.]\n"
          ]
        }
      ],
      "source": [
        "array = np.zeros(10)\n",
        "array[4]=1\n",
        "print(array)"
      ]
    },
    {
      "cell_type": "markdown",
      "metadata": {
        "id": "ouOEHx-UxCJD"
      },
      "source": [
        "#### 7.  Create a vector with values ranging from 10 to 49 (★☆☆) \n",
        "(**hint**: np.arange)"
      ]
    },
    {
      "cell_type": "code",
      "execution_count": null,
      "metadata": {
        "id": "yhE4nPgpxCJE",
        "colab": {
          "base_uri": "https://localhost:8080/"
        },
        "outputId": "61aa8b0f-6ca2-47d6-f033-e73f9ca98b7b"
      },
      "outputs": [
        {
          "output_type": "stream",
          "name": "stdout",
          "text": [
            "[10 11 12 13 14 15 16 17 18 19 20 21 22 23 24 25 26 27 28 29 30 31 32 33\n",
            " 34 35 36 37 38 39 40 41 42 43 44 45 46 47 48 49]\n"
          ]
        }
      ],
      "source": [
        "print(np.arange(10,50))"
      ]
    },
    {
      "cell_type": "markdown",
      "metadata": {
        "id": "O0NGVcN6xCJE"
      },
      "source": [
        "#### 8.  Reverse a vector (first element becomes last) (★☆☆) \n",
        "(**hint**: array\\[::-1\\])"
      ]
    },
    {
      "cell_type": "code",
      "execution_count": null,
      "metadata": {
        "id": "mRO5cP4jxCJE",
        "colab": {
          "base_uri": "https://localhost:8080/"
        },
        "outputId": "c1fabe23-f09a-4e06-e9cb-0dc70218c39e"
      },
      "outputs": [
        {
          "output_type": "stream",
          "name": "stdout",
          "text": [
            "[5 4 3 2 1]\n"
          ]
        }
      ],
      "source": [
        "array =np.array([1,2,3,4,5])\n",
        "print(array[::-1])"
      ]
    },
    {
      "cell_type": "markdown",
      "metadata": {
        "id": "QI5tYzkHxCJE"
      },
      "source": [
        "#### 9.  Create a 3x3 matrix with values ranging from 0 to 8 (★☆☆) \n",
        "(**hint**: reshape)"
      ]
    },
    {
      "cell_type": "code",
      "execution_count": null,
      "metadata": {
        "id": "a3Vo82l8xCJF",
        "colab": {
          "base_uri": "https://localhost:8080/"
        },
        "outputId": "80699080-475a-4122-d0ee-77930740e33b"
      },
      "outputs": [
        {
          "output_type": "stream",
          "name": "stdout",
          "text": [
            "[0 1 2] [3 4 5] [6 7 8]\n"
          ]
        }
      ],
      "source": [
        "m = np.arange(0,9)\n",
        "shape = (3,3)\n",
        "print(m.reshape(shape))"
      ]
    },
    {
      "cell_type": "markdown",
      "metadata": {
        "id": "sWDCIcrtxCJF"
      },
      "source": [
        "#### 10. Find indices of non-zero elements from \\[1,2,0,0,4,0\\] (★☆☆) \n",
        "(**hint**: np.nonzero)"
      ]
    },
    {
      "cell_type": "code",
      "execution_count": null,
      "metadata": {
        "id": "kAPTPGODxCJF",
        "colab": {
          "base_uri": "https://localhost:8080/"
        },
        "outputId": "02fcfef1-9700-4dbe-bb76-c73cc039adbc"
      },
      "outputs": [
        {
          "output_type": "stream",
          "name": "stdout",
          "text": [
            "(array([0, 1, 4]),)\n"
          ]
        }
      ],
      "source": [
        "print(np.nonzero([1,2,0,0,4,0]))"
      ]
    },
    {
      "cell_type": "markdown",
      "metadata": {
        "id": "MsAOW25dxCJF"
      },
      "source": [
        "#### 11. Create a 3x3 identity matrix (★☆☆) \n",
        "(**hint**: np.eye)"
      ]
    },
    {
      "cell_type": "code",
      "execution_count": null,
      "metadata": {
        "id": "CV3WVB8FxCJF",
        "colab": {
          "base_uri": "https://localhost:8080/"
        },
        "outputId": "b9e82330-0382-479e-a4cb-1df601765739"
      },
      "outputs": [
        {
          "output_type": "stream",
          "name": "stdout",
          "text": [
            "[[1. 0. 0.]\n",
            " [0. 1. 0.]\n",
            " [0. 0. 1.]]\n"
          ]
        }
      ],
      "source": [
        "print(np.eye(3))"
      ]
    },
    {
      "cell_type": "markdown",
      "metadata": {
        "id": "3COxVcuNxCJF"
      },
      "source": [
        "#### 12. Create a 3x3x3 array with random values (★☆☆) \n",
        "(**hint**: np.random.random)"
      ]
    },
    {
      "cell_type": "code",
      "execution_count": null,
      "metadata": {
        "collapsed": true,
        "id": "XS3TXWg2xCJG",
        "colab": {
          "base_uri": "https://localhost:8080/"
        },
        "outputId": "abdf008f-14d3-4a43-c2ec-e5d3f7bcc4df"
      },
      "outputs": [
        {
          "output_type": "stream",
          "name": "stdout",
          "text": [
            "[[[0.29810805 0.90058678 0.74594597]\n",
            "  [0.89712488 0.71074314 0.49808995]\n",
            "  [0.00506035 0.51394266 0.12669511]]\n",
            "\n",
            " [[0.59268034 0.96017559 0.85803484]\n",
            "  [0.44989338 0.55385953 0.64579314]\n",
            "  [0.71884109 0.04258161 0.08469799]]\n",
            "\n",
            " [[0.48036707 0.63213607 0.39959193]\n",
            "  [0.33571482 0.61953352 0.00290968]\n",
            "  [0.44636934 0.95936235 0.70543304]]]\n"
          ]
        }
      ],
      "source": [
        "print(np.random.random((3,3,3)))"
      ]
    },
    {
      "cell_type": "markdown",
      "metadata": {
        "id": "HXyi7PrTxCJG"
      },
      "source": [
        "#### 13. Create a 10x10 array with random values and find the minimum and maximum values (★☆☆) \n",
        "(**hint**: min, max)"
      ]
    },
    {
      "cell_type": "code",
      "execution_count": null,
      "metadata": {
        "id": "poJCEivbxCJG",
        "colab": {
          "base_uri": "https://localhost:8080/"
        },
        "outputId": "8995c4ae-0b64-405e-9033-e835bec145a3"
      },
      "outputs": [
        {
          "output_type": "stream",
          "name": "stdout",
          "text": [
            "0.0015462989079992884 0.9856122155029219\n"
          ]
        }
      ],
      "source": [
        "arr = np.random.random((10,10))\n",
        "l,m = arr.min(),arr.max()\n",
        "print(l,m)"
      ]
    },
    {
      "cell_type": "markdown",
      "metadata": {
        "id": "0gxMTgUTxCJG"
      },
      "source": [
        "#### 14. Create a random vector of size 30 and find the mean value (★☆☆) \n",
        "(**hint**: mean)"
      ]
    },
    {
      "cell_type": "code",
      "execution_count": null,
      "metadata": {
        "id": "C464h9Q-xCJG",
        "colab": {
          "base_uri": "https://localhost:8080/"
        },
        "outputId": "902e164b-2f78-46cf-a06c-a355fc38acb2"
      },
      "outputs": [
        {
          "output_type": "stream",
          "name": "stdout",
          "text": [
            "0.5297329988022847\n"
          ]
        }
      ],
      "source": [
        "print((np.random.random(30)).mean())"
      ]
    },
    {
      "cell_type": "markdown",
      "metadata": {
        "id": "EDFLZkn4xCJG"
      },
      "source": [
        "#### 15. Create a 2d array with 1 on the border and 0 inside (★☆☆) \n",
        "(**hint**: array\\[1:-1, 1:-1\\])"
      ]
    },
    {
      "cell_type": "code",
      "execution_count": null,
      "metadata": {
        "id": "6G6JjrP0xCJG",
        "colab": {
          "base_uri": "https://localhost:8080/"
        },
        "outputId": "f7903ffb-57b8-40f3-9dfb-64e438dddf0a"
      },
      "outputs": [
        {
          "output_type": "stream",
          "name": "stdout",
          "text": [
            "[[1. 1. 1.]\n",
            " [1. 0. 1.]\n",
            " [1. 1. 1.]]\n"
          ]
        }
      ],
      "source": [
        "ar = np.ones((3,3))\n",
        "ar[1:-1,1:-1] = 0\n",
        "print(ar)"
      ]
    },
    {
      "cell_type": "markdown",
      "metadata": {
        "id": "3hjJTrv3xCJG"
      },
      "source": [
        "#### 16. How to add a border (filled with 0's) around an existing array? (★☆☆) \n",
        "(**hint**: np.pad)"
      ]
    },
    {
      "cell_type": "code",
      "execution_count": null,
      "metadata": {
        "id": "7SCkfLnpxCJH",
        "colab": {
          "base_uri": "https://localhost:8080/"
        },
        "outputId": "d45fbd7b-eb66-45dc-8b80-473ef92ea6e4"
      },
      "outputs": [
        {
          "output_type": "stream",
          "name": "stdout",
          "text": [
            "[[0. 0. 0. 0. 0.]\n",
            " [0. 1. 1. 1. 0.]\n",
            " [0. 1. 0. 1. 0.]\n",
            " [0. 1. 1. 1. 0.]\n",
            " [0. 0. 0. 0. 0.]]\n"
          ]
        }
      ],
      "source": [
        "print(np.pad(ar,1))"
      ]
    },
    {
      "cell_type": "markdown",
      "metadata": {
        "id": "ISqY0u6oxCJH"
      },
      "source": [
        "#### 17. What is the result of the following expression? (★☆☆) \n",
        "(**hint**: NaN = not a number, inf = infinity)"
      ]
    },
    {
      "cell_type": "markdown",
      "metadata": {
        "id": "0JfSb8zuxCJH"
      },
      "source": [
        "```python\n",
        "0 * np.nan\n",
        "np.nan == np.nan\n",
        "np.inf > np.nan\n",
        "np.nan - np.nan\n",
        "0.3 == 3 * 0.1\n",
        "```"
      ]
    },
    {
      "cell_type": "code",
      "execution_count": null,
      "metadata": {
        "id": "HP-VDb6oxCJH",
        "colab": {
          "base_uri": "https://localhost:8080/"
        },
        "outputId": "94a37109-d29b-4065-ddf3-0df45a89eb6b"
      },
      "outputs": [
        {
          "output_type": "execute_result",
          "data": {
            "text/plain": [
              "False"
            ]
          },
          "metadata": {},
          "execution_count": 18
        }
      ],
      "source": [
        "0 * np.nan\n",
        "np.nan == np.nan\n",
        "np.inf > np.nan\n",
        "np.nan - np.nan\n",
        "0.3 == 3 * 0.1"
      ]
    },
    {
      "cell_type": "markdown",
      "metadata": {
        "id": "uEztkmMpxCJH"
      },
      "source": [
        "#### 18. Create a 5x5 matrix with values 1,2,3,4 just below the diagonal (★☆☆) \n",
        "(**hint**: np.diag)"
      ]
    },
    {
      "cell_type": "code",
      "execution_count": null,
      "metadata": {
        "id": "CF14MJCUxCJI",
        "colab": {
          "base_uri": "https://localhost:8080/"
        },
        "outputId": "33c1be5c-0c6a-47b9-9f57-98849d08fa64"
      },
      "outputs": [
        {
          "output_type": "stream",
          "name": "stdout",
          "text": [
            "[[0 0 0 0 0]\n",
            " [1 0 0 0 0]\n",
            " [0 2 0 0 0]\n",
            " [0 0 3 0 0]\n",
            " [0 0 0 4 0]]\n"
          ]
        }
      ],
      "source": [
        "#print(np.diag([1,2,3,4]))\n",
        "print(np.diag(1+np.arange(4), k = -1))"
      ]
    },
    {
      "cell_type": "markdown",
      "metadata": {
        "id": "tpx95zGbxCJI"
      },
      "source": [
        "#### 19. Create a 8x8 matrix and fill it with a checkerboard pattern (★☆☆) \n",
        "(**hint**: array\\[::2\\])"
      ]
    },
    {
      "cell_type": "code",
      "execution_count": null,
      "metadata": {
        "id": "oLWO8dOfxCJI",
        "colab": {
          "base_uri": "https://localhost:8080/"
        },
        "outputId": "8484c322-d737-44bc-97fc-4ba8f48486c2"
      },
      "outputs": [
        {
          "output_type": "stream",
          "name": "stdout",
          "text": [
            "[[0 1 0 1 0 1 0 1]\n",
            " [1 0 1 0 1 0 1 0]\n",
            " [0 1 0 1 0 1 0 1]\n",
            " [1 0 1 0 1 0 1 0]\n",
            " [0 1 0 1 0 1 0 1]\n",
            " [1 0 1 0 1 0 1 0]\n",
            " [0 1 0 1 0 1 0 1]\n",
            " [1 0 1 0 1 0 1 0]]\n"
          ]
        }
      ],
      "source": [
        "array = np.zeros((8,8), dtype=int)\n",
        "array[1::2,::2] = 1\n",
        "array[::2,1::2] = 1\n",
        "print(array)"
      ]
    },
    {
      "cell_type": "markdown",
      "metadata": {
        "id": "q52ym2j9xCJI"
      },
      "source": [
        "#### 20. Consider a (6,7,8) shape array, what is the index (x,y,z) of the 100th element? \n",
        "(**hint**: np.unravel_index)"
      ]
    },
    {
      "cell_type": "code",
      "execution_count": null,
      "metadata": {
        "id": "gWW8QT1JxCJI",
        "colab": {
          "base_uri": "https://localhost:8080/"
        },
        "outputId": "b694c7ab-059b-46e9-d6c3-3fb5095461b1"
      },
      "outputs": [
        {
          "output_type": "stream",
          "name": "stdout",
          "text": [
            "(1, 5, 4)\n"
          ]
        }
      ],
      "source": [
        "print(np.unravel_index(100, (6,7,8)))"
      ]
    },
    {
      "cell_type": "markdown",
      "metadata": {
        "id": "hcdRnKI2xCJI"
      },
      "source": [
        "#### 21. Create a checkerboard 8x8 matrix using the tile function (★☆☆) \n",
        "(**hint**: np.tile)"
      ]
    },
    {
      "cell_type": "code",
      "execution_count": null,
      "metadata": {
        "id": "LcJvytCSxCJI",
        "colab": {
          "base_uri": "https://localhost:8080/"
        },
        "outputId": "6c51a6c7-a98b-4db7-cf12-ac87e5e5d5dd"
      },
      "outputs": [
        {
          "output_type": "stream",
          "name": "stdout",
          "text": [
            "[[0 1 0 1 0 1 0 1]\n",
            " [1 0 1 0 1 0 1 0]\n",
            " [0 1 0 1 0 1 0 1]\n",
            " [1 0 1 0 1 0 1 0]\n",
            " [0 1 0 1 0 1 0 1]\n",
            " [1 0 1 0 1 0 1 0]\n",
            " [0 1 0 1 0 1 0 1]\n",
            " [1 0 1 0 1 0 1 0]]\n"
          ]
        }
      ],
      "source": [
        "ar = np.array( [ [0,1],[1,0] ] )\n",
        "print(np.tile(ar,(4,4)))"
      ]
    },
    {
      "cell_type": "markdown",
      "metadata": {
        "id": "2ja7EfRixCJI"
      },
      "source": [
        "#### 22. Normalize a 5x5 random matrix (★☆☆) \n",
        "(**hint**: (x - min) / (max - min))"
      ]
    },
    {
      "cell_type": "code",
      "execution_count": null,
      "metadata": {
        "id": "t_7PoV-kxCJI",
        "colab": {
          "base_uri": "https://localhost:8080/"
        },
        "outputId": "2cdf43ed-c782-41b3-be7b-c41b578f65fc"
      },
      "outputs": [
        {
          "output_type": "stream",
          "name": "stdout",
          "text": [
            "[[0.78177982 0.09134047 0.64231713 0.29355174 0.62254806]\n",
            " [0.69090002 0.         0.70219347 0.57725242 0.4960729 ]\n",
            " [0.46732579 0.32193306 0.51125317 0.67444798 1.        ]\n",
            " [0.96468609 0.75424063 0.16590021 0.32462998 0.55214821]\n",
            " [0.86108816 0.96252747 0.84031982 0.64928275 0.71365052]]\n"
          ]
        }
      ],
      "source": [
        "x = np.random.random((5,5))\n",
        "min,max = x.min(),x.max()\n",
        "print((x-min)/(max-min))"
      ]
    },
    {
      "cell_type": "markdown",
      "metadata": {
        "id": "wqNk6MxjxCJJ"
      },
      "source": [
        "#### 23. Create a custom dtype that describes a color as four unsigned bytes (RGBA) (★☆☆) \n",
        "(**hint**: np.dtype)"
      ]
    },
    {
      "cell_type": "code",
      "execution_count": null,
      "metadata": {
        "collapsed": true,
        "id": "2vvvzR9YxCJJ",
        "colab": {
          "base_uri": "https://localhost:8080/"
        },
        "outputId": "4b82d90b-7c71-4cae-9cda-04c622de0c90"
      },
      "outputs": [
        {
          "output_type": "stream",
          "name": "stdout",
          "text": [
            "3\n"
          ]
        },
        {
          "output_type": "execute_result",
          "data": {
            "text/plain": [
              "numpy.ndarray"
            ]
          },
          "metadata": {},
          "execution_count": 32
        }
      ],
      "source": [
        "RGBA = np.dtype( [(\"red\",np.uint8),(\"green\",np.uint8),(\"blue\",np.uint8),(\"alpha\",np.uint8)] )\n",
        "ar = np.array( (1,2,3,4),dtype=RGBA )\n",
        "print(ar[\"blue\"])\n"
      ]
    },
    {
      "cell_type": "markdown",
      "metadata": {
        "id": "RXaHUHRnxCJJ"
      },
      "source": [
        "#### 24. Multiply a 5x3 matrix by a 3x2 matrix (real matrix product) (★☆☆) \n",
        "(**hint**: np.dot | @)"
      ]
    },
    {
      "cell_type": "code",
      "execution_count": null,
      "metadata": {
        "id": "WiYfvDlNxCJJ",
        "colab": {
          "base_uri": "https://localhost:8080/"
        },
        "outputId": "0f07624e-8e63-40c9-c934-29457fdc8250"
      },
      "outputs": [
        {
          "output_type": "stream",
          "name": "stdout",
          "text": [
            "[[0.19310734 0.32283081]\n",
            " [1.03832926 1.14944324]\n",
            " [0.25657358 0.36161142]\n",
            " [0.48943366 0.50185383]\n",
            " [0.18262406 0.40355431]]\n"
          ]
        },
        {
          "output_type": "execute_result",
          "data": {
            "text/plain": [
              "array([[0.19310734, 0.32283081],\n",
              "       [1.03832926, 1.14944324],\n",
              "       [0.25657358, 0.36161142],\n",
              "       [0.48943366, 0.50185383],\n",
              "       [0.18262406, 0.40355431]])"
            ]
          },
          "metadata": {},
          "execution_count": 37
        }
      ],
      "source": [
        "ar1= np.random.random((5,3))\n",
        "ar2 = np.random.random((3,2))\n",
        "print(ar1 @ ar2)\n",
        "np.dot(ar1,ar2)"
      ]
    },
    {
      "cell_type": "markdown",
      "metadata": {
        "id": "BYMe364AxCJJ"
      },
      "source": [
        "#### 25. Given a 1D array, negate all elements which are between 3 and 8, in place. (★☆☆) \n",
        "(**hint**: >, <=)"
      ]
    },
    {
      "cell_type": "code",
      "execution_count": null,
      "metadata": {
        "id": "j8paZqL5xCJJ",
        "colab": {
          "base_uri": "https://localhost:8080/"
        },
        "outputId": "9666f06c-0205-4b11-8b80-b35efea1f5a2"
      },
      "outputs": [
        {
          "output_type": "stream",
          "name": "stdout",
          "text": [
            "[ 0  1  2 -3 -4 -5 -6 -7 -8  9]\n"
          ]
        }
      ],
      "source": [
        "ar = np.arange(10)\n",
        "ar[(ar>=3)&(ar<=8)]*=(-1)\n",
        "print(ar)"
      ]
    },
    {
      "cell_type": "markdown",
      "metadata": {
        "id": "RtLRlVaGxCJJ"
      },
      "source": [
        "#### 26. What is the output of the following script? (★☆☆) \n",
        "(**hint**: np.sum)"
      ]
    },
    {
      "cell_type": "markdown",
      "metadata": {
        "id": "2MhjJ4BYxCJJ"
      },
      "source": [
        "```python\n",
        "# Author: Jake VanderPlas\n",
        "\n",
        "print(sum(range(5),-1))\n",
        "from numpy import *\n",
        "print(sum(range(5),-1))\n",
        "```"
      ]
    },
    {
      "cell_type": "code",
      "execution_count": null,
      "metadata": {
        "id": "332deul7xCJJ",
        "colab": {
          "base_uri": "https://localhost:8080/"
        },
        "outputId": "9987aa8d-2d5d-4970-a3a1-56ce8121e138"
      },
      "outputs": [
        {
          "output_type": "stream",
          "name": "stdout",
          "text": [
            "10\n",
            "10\n"
          ]
        }
      ],
      "source": [
        "print(sum(range(5),-1))\n",
        "from numpy import *\n",
        "print(sum(range(5),-1))\n"
      ]
    },
    {
      "cell_type": "markdown",
      "metadata": {
        "id": "8bTreP15xCJJ"
      },
      "source": [
        "#### 27. Consider an integer vector Z, which of these expressions are legal? (★☆☆)"
      ]
    },
    {
      "cell_type": "markdown",
      "metadata": {
        "id": "pFK3EsX-xCJK"
      },
      "source": [
        "```python\n",
        "Z**Z\n",
        "2 << Z >> 2\n",
        "Z <- Z\n",
        "1j*Z\n",
        "Z/1/1\n",
        "Z<Z>Z\n",
        "```"
      ]
    },
    {
      "cell_type": "code",
      "execution_count": null,
      "metadata": {
        "id": "LtKBDVyMxCJK",
        "colab": {
          "base_uri": "https://localhost:8080/",
          "height": 209
        },
        "outputId": "d383af8f-5f59-4410-e0dc-43fa210e8626"
      },
      "outputs": [
        {
          "output_type": "error",
          "ename": "ValueError",
          "evalue": "ignored",
          "traceback": [
            "\u001b[0;31m---------------------------------------------------------------------------\u001b[0m",
            "\u001b[0;31mValueError\u001b[0m                                Traceback (most recent call last)",
            "\u001b[0;32m<ipython-input-47-1cc665a464f4>\u001b[0m in \u001b[0;36m<module>\u001b[0;34m()\u001b[0m\n\u001b[1;32m      5\u001b[0m \u001b[0;31m# 1j*Z\u001b[0m\u001b[0;34m\u001b[0m\u001b[0;34m\u001b[0m\u001b[0;34m\u001b[0m\u001b[0m\n\u001b[1;32m      6\u001b[0m \u001b[0;31m# Z/1/1\u001b[0m\u001b[0;34m\u001b[0m\u001b[0;34m\u001b[0m\u001b[0;34m\u001b[0m\u001b[0m\n\u001b[0;32m----> 7\u001b[0;31m \u001b[0mZ\u001b[0m\u001b[0;34m<\u001b[0m\u001b[0mZ\u001b[0m\u001b[0;34m>\u001b[0m\u001b[0mZ\u001b[0m\u001b[0;34m\u001b[0m\u001b[0;34m\u001b[0m\u001b[0m\n\u001b[0m",
            "\u001b[0;31mValueError\u001b[0m: The truth value of an array with more than one element is ambiguous. Use a.any() or a.all()"
          ]
        }
      ],
      "source": [
        "Z = np.arange(5)\n",
        "# Z**Z\n",
        "# 2 << Z >> 2\n",
        "# Z <- Z\n",
        "# 1j*Z\n",
        "# Z/1/1\n",
        "Z<Z>Z"
      ]
    },
    {
      "cell_type": "markdown",
      "metadata": {
        "id": "BXSCH3zyxCJK"
      },
      "source": [
        "#### 28. What are the result of the following expressions?"
      ]
    },
    {
      "cell_type": "markdown",
      "metadata": {
        "id": "pqHvvSInxCJK"
      },
      "source": [
        "```python\n",
        "np.array(0) / np.array(0)\n",
        "np.array(0) // np.array(0)\n",
        "np.array([np.nan]).astype(int).astype(float)\n",
        "```"
      ]
    },
    {
      "cell_type": "code",
      "execution_count": null,
      "metadata": {
        "id": "CKCLSPuFxCJK",
        "colab": {
          "base_uri": "https://localhost:8080/"
        },
        "outputId": "04f23a89-a904-4c54-b145-d9430f731756"
      },
      "outputs": [
        {
          "output_type": "stream",
          "name": "stderr",
          "text": [
            "/usr/local/lib/python3.7/dist-packages/ipykernel_launcher.py:1: RuntimeWarning: invalid value encountered in true_divide\n",
            "  \"\"\"Entry point for launching an IPython kernel.\n"
          ]
        },
        {
          "output_type": "execute_result",
          "data": {
            "text/plain": [
              "nan"
            ]
          },
          "metadata": {},
          "execution_count": 48
        }
      ],
      "source": [
        "np.array(0) / np.array(0)"
      ]
    },
    {
      "cell_type": "code",
      "source": [
        "np.array(0) // np.array(0)"
      ],
      "metadata": {
        "colab": {
          "base_uri": "https://localhost:8080/"
        },
        "id": "njhVM2Q-9DS-",
        "outputId": "3fd0f494-f66f-4413-85d0-8495c5e820be"
      },
      "execution_count": null,
      "outputs": [
        {
          "output_type": "stream",
          "name": "stderr",
          "text": [
            "/usr/local/lib/python3.7/dist-packages/ipykernel_launcher.py:1: RuntimeWarning: divide by zero encountered in floor_divide\n",
            "  \"\"\"Entry point for launching an IPython kernel.\n"
          ]
        },
        {
          "output_type": "execute_result",
          "data": {
            "text/plain": [
              "0"
            ]
          },
          "metadata": {},
          "execution_count": 49
        }
      ]
    },
    {
      "cell_type": "code",
      "source": [
        "np.array([np.nan]).astype(int).astype(float)"
      ],
      "metadata": {
        "colab": {
          "base_uri": "https://localhost:8080/"
        },
        "id": "91teKQaK9Ncm",
        "outputId": "98d8225e-55af-4950-ca56-284f0df30b25"
      },
      "execution_count": null,
      "outputs": [
        {
          "output_type": "execute_result",
          "data": {
            "text/plain": [
              "array([-9.22337204e+18])"
            ]
          },
          "metadata": {},
          "execution_count": 50
        }
      ]
    },
    {
      "cell_type": "markdown",
      "metadata": {
        "id": "oWLfFCy-xCJK"
      },
      "source": [
        "#### 29. How to round away from zero a float array ? (★☆☆) \n",
        "(**hint**: np.uniform, np.copysign, np.ceil, np.abs)"
      ]
    },
    {
      "cell_type": "code",
      "execution_count": 3,
      "metadata": {
        "id": "tpt4f9FOxCJK",
        "colab": {
          "base_uri": "https://localhost:8080/"
        },
        "outputId": "53dadbbe-2857-43f5-f115-2dbe287b2f70"
      },
      "outputs": [
        {
          "output_type": "stream",
          "name": "stdout",
          "text": [
            "[-2. -4. -1.  7. -9. -7.  3. -1. -2.  2.]\n"
          ]
        }
      ],
      "source": [
        "arr = np.random.uniform(-10,+10,10)\n",
        "print(np.copysign(np.ceil(np.abs(arr)), arr))"
      ]
    },
    {
      "cell_type": "markdown",
      "metadata": {
        "id": "akLxBVSAxCJK"
      },
      "source": [
        "#### 30. How to find common values between two arrays? (★☆☆) \n",
        "(**hint**: np.intersect1d)"
      ]
    },
    {
      "cell_type": "code",
      "execution_count": null,
      "metadata": {
        "id": "18NR_5W_xCJK",
        "colab": {
          "base_uri": "https://localhost:8080/"
        },
        "outputId": "0185da8f-e59c-437f-d837-0ba5619c5f70"
      },
      "outputs": [
        {
          "output_type": "stream",
          "name": "stdout",
          "text": [
            "[6 7]\n"
          ]
        }
      ],
      "source": [
        "print(np.intersect1d([9,8,7,6],[1,2,6,7]))"
      ]
    },
    {
      "cell_type": "markdown",
      "metadata": {
        "id": "-JKCOiq6xCJL"
      },
      "source": [
        "#### 31. How to ignore all numpy warnings (not recommended)? (★☆☆) \n",
        "(**hint**: np.seterr, np.errstate)"
      ]
    },
    {
      "cell_type": "code",
      "execution_count": null,
      "metadata": {
        "id": "d60V-uq9xCJL",
        "colab": {
          "base_uri": "https://localhost:8080/"
        },
        "outputId": "fdfffd87-7a20-4ad0-880b-1a1d36a2ddc1"
      },
      "outputs": [
        {
          "output_type": "execute_result",
          "data": {
            "text/plain": [
              "<numpy.errstate at 0x7ff5c5157f10>"
            ]
          },
          "metadata": {},
          "execution_count": 52
        }
      ],
      "source": [
        "np.seterr(all=\"ignore\")\n",
        "np.errstate(all=\"ignore\")"
      ]
    },
    {
      "cell_type": "markdown",
      "metadata": {
        "id": "MXkeJLM-xCJM"
      },
      "source": [
        "#### 32. Is the following expressions true? (★☆☆) \n",
        "(**hint**: imaginary number)"
      ]
    },
    {
      "cell_type": "markdown",
      "metadata": {
        "id": "hl4e5s6oxCJN"
      },
      "source": [
        "```python\n",
        "np.sqrt(-1) == np.emath.sqrt(-1)\n",
        "```"
      ]
    },
    {
      "cell_type": "code",
      "execution_count": null,
      "metadata": {
        "id": "zDT-6U9-xCJN",
        "colab": {
          "base_uri": "https://localhost:8080/"
        },
        "outputId": "0f4bdf63-85fc-4f70-831d-c2ee25296947"
      },
      "outputs": [
        {
          "output_type": "execute_result",
          "data": {
            "text/plain": [
              "False"
            ]
          },
          "metadata": {},
          "execution_count": 53
        }
      ],
      "source": [
        "np.sqrt(-1) == np.emath.sqrt(-1)"
      ]
    },
    {
      "cell_type": "markdown",
      "metadata": {
        "id": "NLP_SuVAxCJN"
      },
      "source": [
        "#### 33. How to get the dates of yesterday, today and tomorrow? (★☆☆) \n",
        "(**hint**: np.datetime64, np.timedelta64)"
      ]
    },
    {
      "cell_type": "code",
      "execution_count": null,
      "metadata": {
        "collapsed": true,
        "id": "UmCpvJhqxCJN"
      },
      "outputs": [],
      "source": [
        "yesterday = np.datetime64(\"today\", \"D\")- np.timedelta64(1, \"D\")\n",
        "today = np.datetime64(\"today\", \"D\")\n",
        "tomorrow = np.datetime64(\"today\", \"D\")+ np.timedelta64(1, \"D\")"
      ]
    },
    {
      "cell_type": "markdown",
      "metadata": {
        "id": "1ipSqm1lxCJN"
      },
      "source": [
        "#### 34. How to get all the dates corresponding to the month of July 2016? (★★☆) \n",
        "(**hint**: np.arange(dtype=datetime64\\['D'\\]))"
      ]
    },
    {
      "cell_type": "code",
      "execution_count": null,
      "metadata": {
        "id": "EIZBzntPxCJN",
        "colab": {
          "base_uri": "https://localhost:8080/"
        },
        "outputId": "07d1bc84-954f-4fd5-c4bf-74a0492b7670"
      },
      "outputs": [
        {
          "output_type": "stream",
          "name": "stdout",
          "text": [
            "['2016-07-01' '2016-07-02' '2016-07-03' '2016-07-04' '2016-07-05'\n",
            " '2016-07-06' '2016-07-07' '2016-07-08' '2016-07-09' '2016-07-10'\n",
            " '2016-07-11' '2016-07-12' '2016-07-13' '2016-07-14' '2016-07-15'\n",
            " '2016-07-16' '2016-07-17' '2016-07-18' '2016-07-19' '2016-07-20'\n",
            " '2016-07-21' '2016-07-22' '2016-07-23' '2016-07-24' '2016-07-25'\n",
            " '2016-07-26' '2016-07-27' '2016-07-28' '2016-07-29' '2016-07-30'\n",
            " '2016-07-31']\n"
          ]
        }
      ],
      "source": [
        "print(np.arange(\"2016-07\",\"2016-08\",dtype = \"datetime64[D]\") )"
      ]
    },
    {
      "cell_type": "markdown",
      "metadata": {
        "id": "YttBsM4DxCJN"
      },
      "source": [
        "#### 35. How to compute ((A+B)\\*(-A/2)) in place (without copy)? (★★☆) \n",
        "(**hint**: np.add(out=), np.negative(out=), np.multiply(out=), np.divide(out=))"
      ]
    },
    {
      "cell_type": "code",
      "execution_count": null,
      "metadata": {
        "id": "gB0vo4zyxCJN",
        "colab": {
          "base_uri": "https://localhost:8080/"
        },
        "outputId": "8aac09ca-0b9f-432b-8ba2-50536de82b40"
      },
      "outputs": [
        {
          "output_type": "execute_result",
          "data": {
            "text/plain": [
              "-54.0"
            ]
          },
          "metadata": {},
          "execution_count": 59
        }
      ],
      "source": [
        "A = np.ones(3)*4\n",
        "B = np.ones(3)*5\n",
        "C = np.ones(3)*6\n",
        "np.add(A,B,out=B)\n",
        "np.divide(A,2,out=A)\n",
        "np.negative(A,out=A)\n",
        "np.dot(A,B)"
      ]
    },
    {
      "cell_type": "markdown",
      "metadata": {
        "id": "NsLTiE5lxCJN"
      },
      "source": [
        "#### 36. Extract the integer part of a random array using 5 different methods (★★☆) \n",
        "(**hint**: %, np.floor, np.ceil, astype, np.trunc)"
      ]
    },
    {
      "cell_type": "code",
      "execution_count": null,
      "metadata": {
        "id": "9GnJPiiYxCJN",
        "colab": {
          "base_uri": "https://localhost:8080/"
        },
        "outputId": "9bc5ee89-f33f-46a8-9922-096ad9b2ebcb"
      },
      "outputs": [
        {
          "output_type": "stream",
          "name": "stdout",
          "text": [
            "[0. 0. 0. 0. 0.]\n",
            "[0. 0. 0. 0. 0.]\n",
            "[1. 1. 1. 1. 1.]\n",
            "[0 0 0 0 0]\n",
            "[0. 0. 0. 0. 0.]\n"
          ]
        }
      ],
      "source": [
        "arr = np.random.random((5))\n",
        "print(arr-arr%1)\n",
        "print( np.floor(arr) )\n",
        "print( np.ceil(arr) )\n",
        "print( arr.astype(int) )\n",
        "print( np.trunc(arr) )"
      ]
    },
    {
      "cell_type": "markdown",
      "metadata": {
        "id": "yZFr_hP0xCJN"
      },
      "source": [
        "#### 37. Create a 5x5 matrix with row values ranging from 0 to 4 (★★☆) \n",
        "(**hint**: np.arange)"
      ]
    },
    {
      "cell_type": "code",
      "execution_count": null,
      "metadata": {
        "id": "VergTDb6xCJO",
        "colab": {
          "base_uri": "https://localhost:8080/"
        },
        "outputId": "d61c90e2-453d-4a73-ca94-576b42b60750"
      },
      "outputs": [
        {
          "output_type": "stream",
          "name": "stdout",
          "text": [
            "[[0. 1. 2. 3. 4.]\n",
            " [0. 1. 2. 3. 4.]\n",
            " [0. 1. 2. 3. 4.]\n",
            " [0. 1. 2. 3. 4.]\n",
            " [0. 1. 2. 3. 4.]]\n"
          ]
        }
      ],
      "source": [
        "mat = np.zeros((5,5))\n",
        "mat = mat + np.arange(5)\n",
        "print(mat)"
      ]
    },
    {
      "cell_type": "markdown",
      "metadata": {
        "id": "oB2tbBk3xCJO"
      },
      "source": [
        "#### 38. Consider a generator function that generates 10 integers and use it to build an array (★☆☆) \n",
        "(**hint**: np.fromiter)"
      ]
    },
    {
      "cell_type": "code",
      "execution_count": null,
      "metadata": {
        "id": "zZcIuUXSxCJO",
        "colab": {
          "base_uri": "https://localhost:8080/"
        },
        "outputId": "6adbe421-6212-409e-e387-1eb05ef0082a"
      },
      "outputs": [
        {
          "output_type": "stream",
          "name": "stdout",
          "text": [
            "[0 1 2 3 4 5 6 7 8 9]\n"
          ]
        }
      ],
      "source": [
        "def generator():\n",
        "  for i in range(10):\n",
        "    yield i\n",
        "arr = np.fromiter(generator(),dtype=int,count=-1)\n",
        "print(arr)"
      ]
    },
    {
      "cell_type": "markdown",
      "metadata": {
        "id": "yq8izvTkxCJO"
      },
      "source": [
        "#### 39. Create a vector of size 10 with values ranging from 0 to 1, both excluded (★★☆) \n",
        "(**hint**: np.linspace)"
      ]
    },
    {
      "cell_type": "code",
      "execution_count": null,
      "metadata": {
        "id": "ZiF8zbCAxCJO",
        "colab": {
          "base_uri": "https://localhost:8080/"
        },
        "outputId": "b6a1a145-e2fc-4f3d-c8d0-e1bfbbcbcb83"
      },
      "outputs": [
        {
          "output_type": "stream",
          "name": "stdout",
          "text": [
            "[0.09090909 0.18181818 0.27272727 0.36363636 0.45454545 0.54545455\n",
            " 0.63636364 0.72727273 0.81818182 0.90909091]\n"
          ]
        }
      ],
      "source": [
        "v = np.linspace(0,1,11,endpoint=False)[1:]\n",
        "print(v)"
      ]
    },
    {
      "cell_type": "markdown",
      "metadata": {
        "id": "DvzJsobQxCJO"
      },
      "source": [
        "#### 40. Create a random vector of size 10 and sort it (★★☆) \n",
        "(**hint**: sort)"
      ]
    },
    {
      "cell_type": "code",
      "execution_count": null,
      "metadata": {
        "id": "z_aqfrjQxCJO",
        "colab": {
          "base_uri": "https://localhost:8080/"
        },
        "outputId": "9f71d0cb-ec0c-4712-cb46-c53c035014a7"
      },
      "outputs": [
        {
          "output_type": "stream",
          "name": "stdout",
          "text": [
            "[0.223618   0.43708092 0.55443835 0.55792578 0.56964599 0.58098373\n",
            " 0.67777744 0.7213546  0.87742083 0.90102741]\n"
          ]
        }
      ],
      "source": [
        "v = np.random.random((10))\n",
        "v.sort()\n",
        "print(v)"
      ]
    },
    {
      "cell_type": "markdown",
      "metadata": {
        "id": "gzwSUFk9xCJP"
      },
      "source": [
        "#### 41. How to sum a small array faster than np.sum? (★★☆) \n",
        "(**hint**: np.add.reduce)"
      ]
    },
    {
      "cell_type": "code",
      "execution_count": null,
      "metadata": {
        "id": "xc0XjicRxCJP",
        "colab": {
          "base_uri": "https://localhost:8080/"
        },
        "outputId": "ed9d6d04-3f6c-43bf-92f9-316ae939a64c"
      },
      "outputs": [
        {
          "output_type": "stream",
          "name": "stdout",
          "text": [
            "10\n"
          ]
        }
      ],
      "source": [
        "print(np.add.reduce(np.arange(5)))"
      ]
    },
    {
      "cell_type": "markdown",
      "metadata": {
        "id": "pCh070vOxCJP"
      },
      "source": [
        "#### 42. Consider two random array A and B, check if they are equal (★★☆) \n",
        "(**hint**: np.allclose, np.array\\_equal)"
      ]
    },
    {
      "cell_type": "code",
      "execution_count": null,
      "metadata": {
        "id": "UhohLwNZxCJP",
        "colab": {
          "base_uri": "https://localhost:8080/"
        },
        "outputId": "160cb91c-9a71-4f47-925f-73ea6c0952d7"
      },
      "outputs": [
        {
          "output_type": "stream",
          "name": "stdout",
          "text": [
            "False\n",
            "False\n"
          ]
        }
      ],
      "source": [
        "A = np.random.random((3))\n",
        "B = np.random.random((3))\n",
        "eq = np.allclose(A,B)\n",
        "print(eq)\n",
        "\n",
        "eql = np.array_equal(A,B)\n",
        "print(eql)"
      ]
    },
    {
      "cell_type": "markdown",
      "metadata": {
        "id": "Omf-yq1uxCJP"
      },
      "source": [
        "#### 43. Make an array immutable (read-only) (★★☆) \n",
        "(**hint**: flags.writeable)"
      ]
    },
    {
      "cell_type": "code",
      "execution_count": null,
      "metadata": {
        "id": "PSqXjx11xCJP",
        "colab": {
          "base_uri": "https://localhost:8080/",
          "height": 227
        },
        "outputId": "b3af58fa-0a44-4d36-ad9e-9dc7008cc468"
      },
      "outputs": [
        {
          "output_type": "error",
          "ename": "ValueError",
          "evalue": "ignored",
          "traceback": [
            "\u001b[0;31m---------------------------------------------------------------------------\u001b[0m",
            "\u001b[0;31mValueError\u001b[0m                                Traceback (most recent call last)",
            "\u001b[0;32m<ipython-input-12-e73d197a49b8>\u001b[0m in \u001b[0;36m<module>\u001b[0;34m()\u001b[0m\n\u001b[1;32m      1\u001b[0m \u001b[0ma\u001b[0m \u001b[0;34m=\u001b[0m \u001b[0mnp\u001b[0m\u001b[0;34m.\u001b[0m\u001b[0mzeros\u001b[0m\u001b[0;34m(\u001b[0m\u001b[0;36m10\u001b[0m\u001b[0;34m)\u001b[0m\u001b[0;34m\u001b[0m\u001b[0;34m\u001b[0m\u001b[0m\n\u001b[1;32m      2\u001b[0m \u001b[0ma\u001b[0m\u001b[0;34m.\u001b[0m\u001b[0mflags\u001b[0m\u001b[0;34m.\u001b[0m\u001b[0mwriteable\u001b[0m \u001b[0;34m=\u001b[0m \u001b[0;32mFalse\u001b[0m\u001b[0;34m\u001b[0m\u001b[0;34m\u001b[0m\u001b[0m\n\u001b[0;32m----> 3\u001b[0;31m \u001b[0ma\u001b[0m\u001b[0;34m[\u001b[0m\u001b[0;36m0\u001b[0m\u001b[0;34m]\u001b[0m \u001b[0;34m=\u001b[0m \u001b[0;36m1\u001b[0m\u001b[0;34m\u001b[0m\u001b[0;34m\u001b[0m\u001b[0m\n\u001b[0m\u001b[1;32m      4\u001b[0m \u001b[0mprint\u001b[0m\u001b[0;34m(\u001b[0m\u001b[0ma\u001b[0m\u001b[0;34m)\u001b[0m\u001b[0;34m\u001b[0m\u001b[0;34m\u001b[0m\u001b[0m\n",
            "\u001b[0;31mValueError\u001b[0m: assignment destination is read-only"
          ]
        }
      ],
      "source": [
        "a = np.zeros(10)\n",
        "a.flags.writeable = False\n",
        "a[0] = 1\n",
        "print(a)"
      ]
    },
    {
      "cell_type": "markdown",
      "metadata": {
        "id": "8w1yPSE7xCJP"
      },
      "source": [
        "#### 44. Consider a random 10x2 matrix representing cartesian coordinates, convert them to polar coordinates (★★☆) \n",
        "(**hint**: np.sqrt, np.arctan2)"
      ]
    },
    {
      "cell_type": "code",
      "execution_count": null,
      "metadata": {
        "id": "T4rrL9RrxCJP",
        "colab": {
          "base_uri": "https://localhost:8080/"
        },
        "outputId": "af82163b-f14d-4987-8ea1-3199fff8d2de"
      },
      "outputs": [
        {
          "output_type": "stream",
          "name": "stdout",
          "text": [
            "[[1.04403644 1.05776801]\n",
            " [0.91810984 1.15806434]\n",
            " [0.62913369 1.10180327]\n",
            " [1.26665347 0.7962489 ]\n",
            " [0.76410729 1.48753114]\n",
            " [1.2615282  0.86607948]\n",
            " [0.86477048 1.24826986]\n",
            " [0.55965691 1.44268174]\n",
            " [0.95021889 0.1835668 ]\n",
            " [0.5954028  0.04273844]]\n"
          ]
        }
      ],
      "source": [
        "mat = np.random.random((10,2))\n",
        "x,y = mat[:,0], mat[:,1]\n",
        "r = np.sqrt(x**2+y**2)\n",
        "t = np.arctan2(y,x)\n",
        "pol = np.c_[r,t]\n",
        "print(pol)"
      ]
    },
    {
      "cell_type": "markdown",
      "metadata": {
        "id": "VK2VefATxCJP"
      },
      "source": [
        "#### 45. Create random vector of size 10 and replace the maximum value by 0 (★★☆) \n",
        "(**hint**: argmax)"
      ]
    },
    {
      "cell_type": "code",
      "execution_count": null,
      "metadata": {
        "id": "7eejXxpJxCJQ",
        "colab": {
          "base_uri": "https://localhost:8080/"
        },
        "outputId": "bd5b057e-6aea-4b45-bd74-6f30459927e5"
      },
      "outputs": [
        {
          "output_type": "stream",
          "name": "stdout",
          "text": [
            "[0.87133386 0.27802443 0.66100049 0.25558907 0.32994585 0.\n",
            " 0.28274185 0.04093892 0.43352924 0.15392787]\n"
          ]
        }
      ],
      "source": [
        "vec = np.random.random((10))\n",
        "vec[vec.argmax()] = 0\n",
        "print(vec)"
      ]
    },
    {
      "cell_type": "markdown",
      "metadata": {
        "id": "HGS_b4iexCJQ"
      },
      "source": [
        "#### 46. Create a structured array with `x` and `y` coordinates covering the \\[0,1\\]x\\[0,1\\] area (★★☆) \n",
        "(**hint**: np.meshgrid)"
      ]
    },
    {
      "cell_type": "code",
      "execution_count": 4,
      "metadata": {
        "id": "0ZyXn_SbxCJQ",
        "colab": {
          "base_uri": "https://localhost:8080/"
        },
        "outputId": "fe295c6f-b432-4e35-d5d1-730a9e5be5cf"
      },
      "outputs": [
        {
          "output_type": "stream",
          "name": "stdout",
          "text": [
            "[[(0.  , 0.  ) (0.25, 0.  ) (0.5 , 0.  ) (0.75, 0.  ) (1.  , 0.  )]\n",
            " [(0.  , 0.25) (0.25, 0.25) (0.5 , 0.25) (0.75, 0.25) (1.  , 0.25)]\n",
            " [(0.  , 0.5 ) (0.25, 0.5 ) (0.5 , 0.5 ) (0.75, 0.5 ) (1.  , 0.5 )]\n",
            " [(0.  , 0.75) (0.25, 0.75) (0.5 , 0.75) (0.75, 0.75) (1.  , 0.75)]\n",
            " [(0.  , 1.  ) (0.25, 1.  ) (0.5 , 1.  ) (0.75, 1.  ) (1.  , 1.  )]]\n"
          ]
        }
      ],
      "source": [
        "arr = np.zeros((5,5), [('x',float),('y',float)])\n",
        "arr['x'], arr['y'] = np.meshgrid(np.linspace(0,1,5),\n",
        "                             np.linspace(0,1,5))\n",
        "print(arr)"
      ]
    },
    {
      "cell_type": "markdown",
      "metadata": {
        "id": "Ae_mpgh_xCJQ"
      },
      "source": [
        "####  47. Given two arrays, X and Y, construct the Cauchy matrix C (Cij =1/(xi - yj)) \n",
        "(**hint**: np.subtract.outer)"
      ]
    },
    {
      "cell_type": "code",
      "execution_count": 5,
      "metadata": {
        "id": "A10zddI4xCJQ",
        "colab": {
          "base_uri": "https://localhost:8080/"
        },
        "outputId": "be69eeb3-9bba-486a-a89f-675310565889"
      },
      "outputs": [
        {
          "output_type": "stream",
          "name": "stdout",
          "text": [
            "3638.163637117973\n"
          ]
        }
      ],
      "source": [
        "X = np.arange(8)\n",
        "Y = X + 0.5\n",
        "C = 1.0 / np.subtract.outer(X, Y)\n",
        "print(np.linalg.det(C))"
      ]
    },
    {
      "cell_type": "markdown",
      "metadata": {
        "id": "gM6GIuuFxCJQ"
      },
      "source": [
        "#### 48. Print the minimum and maximum representable value for each numpy scalar type (★★☆) \n",
        "(**hint**: np.iinfo, np.finfo, eps)"
      ]
    },
    {
      "cell_type": "code",
      "execution_count": null,
      "metadata": {
        "id": "aa-bZeczxCJQ",
        "colab": {
          "base_uri": "https://localhost:8080/"
        },
        "outputId": "1e8b877f-4147-4813-a6cd-101bfd65acd1"
      },
      "outputs": [
        {
          "output_type": "stream",
          "name": "stdout",
          "text": [
            "-128\n",
            "127\n",
            "-2147483648\n",
            "2147483647\n",
            "-9223372036854775808\n",
            "9223372036854775807\n",
            "-3.4028235e+38\n",
            "3.4028235e+38\n",
            "1.1920929e-07\n",
            "-1.7976931348623157e+308\n",
            "1.7976931348623157e+308\n",
            "2.220446049250313e-16\n"
          ]
        }
      ],
      "source": [
        "for dtype in [np.int8, np.int32, np.int64]:\n",
        "    print(np.iinfo(dtype).min)\n",
        "    print(np.iinfo(dtype).max)\n",
        "for dtype in [np.float32, np.float64]:\n",
        "    print(np.finfo(dtype).min)\n",
        "    print(np.finfo(dtype).max)\n",
        "    print(np.finfo(dtype).eps)"
      ]
    },
    {
      "cell_type": "markdown",
      "metadata": {
        "id": "aGhWOn83xCJQ"
      },
      "source": [
        "#### 49. How to print all the values of an array? (★★☆) \n",
        "(**hint**: np.set\\_printoptions)"
      ]
    },
    {
      "cell_type": "code",
      "execution_count": null,
      "metadata": {
        "id": "Ng4Rd7qlxCJQ"
      },
      "outputs": [],
      "source": [
        "import sys\n",
        "\n",
        "np.set_printoptions(threshold=sys.maxsize)"
      ]
    },
    {
      "cell_type": "markdown",
      "metadata": {
        "id": "1F0iFObUxCJQ"
      },
      "source": [
        "#### 50. How to find the closest value (to a given scalar) in a vector? (★★☆) \n",
        "(**hint**: argmin)"
      ]
    },
    {
      "cell_type": "code",
      "execution_count": null,
      "metadata": {
        "id": "-u3RgifvxCJQ",
        "colab": {
          "base_uri": "https://localhost:8080/"
        },
        "outputId": "386656af-faac-403e-d77f-91513f92a118"
      },
      "outputs": [
        {
          "output_type": "stream",
          "name": "stdout",
          "text": [
            "5.791475357041583\n"
          ]
        }
      ],
      "source": [
        "vec = np.random.uniform(0,10,10)\n",
        "scal = 5\n",
        "vec_1 = np.abs(arr - 5)\n",
        "ind = vec_1.argmin()\n",
        "print(vec[ind])"
      ]
    },
    {
      "cell_type": "markdown",
      "metadata": {
        "id": "0KXa3DPIxCJR"
      },
      "source": [
        "#### 51. Create a structured array representing a position (x,y) and a color (r,g,b) (★★☆) \n",
        "(**hint**: dtype)"
      ]
    },
    {
      "cell_type": "code",
      "execution_count": null,
      "metadata": {
        "id": "5HQ2PDezxCJR",
        "colab": {
          "base_uri": "https://localhost:8080/"
        },
        "outputId": "387fb82a-15d6-42e0-8875-369118c8753f"
      },
      "outputs": [
        {
          "output_type": "stream",
          "name": "stdout",
          "text": [
            "[((0., 0.), (0., 0., 0.)) ((0., 0.), (0., 0., 0.))\n",
            " ((0., 0.), (0., 0., 0.)) ((0., 0.), (0., 0., 0.))\n",
            " ((0., 0.), (0., 0., 0.)) ((0., 0.), (0., 0., 0.))\n",
            " ((0., 0.), (0., 0., 0.)) ((0., 0.), (0., 0., 0.))\n",
            " ((0., 0.), (0., 0., 0.)) ((0., 0.), (0., 0., 0.))]\n"
          ]
        }
      ],
      "source": [
        "arr = np.zeros(10, [ ('position', [ ('x', float),\n",
        "                                  ('y', float)]),\n",
        "                   ('color',    [ ('r', float),\n",
        "                                  ('g', float),\n",
        "                                  ('b', float)])])\n",
        "print(arr)"
      ]
    },
    {
      "cell_type": "markdown",
      "metadata": {
        "id": "u9gRT8UBxCJR"
      },
      "source": [
        "#### 52. Consider a random vector with shape (100,2) representing coordinates, find point by point distances (★★☆) \n",
        "(**hint**: np.atleast\\_2d, T, np.sqrt)"
      ]
    },
    {
      "cell_type": "code",
      "execution_count": null,
      "metadata": {
        "id": "pLBAl5MCxCJR",
        "colab": {
          "base_uri": "https://localhost:8080/"
        },
        "outputId": "d3cd7aad-d630-444f-d6a0-8b6a3265f7d2"
      },
      "outputs": [
        {
          "output_type": "stream",
          "name": "stdout",
          "text": [
            "[[0.         1.13358448 0.67662955 ... 0.63038404 0.51675802 0.20525536]\n",
            " [1.13358448 0.         0.6327587  ... 0.65968187 0.90557266 0.9339367 ]\n",
            " [0.67662955 0.6327587  0.         ... 0.04636156 0.77893064 0.48375711]\n",
            " ...\n",
            " [0.63038404 0.65968187 0.04636156 ... 0.         0.7467183  0.43832806]\n",
            " [0.51675802 0.90557266 0.77893064 ... 0.7467183  0.         0.46313667]\n",
            " [0.20525536 0.9339367  0.48375711 ... 0.43832806 0.46313667 0.        ]]\n"
          ]
        }
      ],
      "source": [
        "arr = np.random.random((100,2))\n",
        "X,Y = np.atleast_2d(arr[:,0],arr[:,1])\n",
        "d = np.sqrt( (X-X.T)**2 + (Y-Y.T)**2)\n",
        "print(d)"
      ]
    },
    {
      "cell_type": "markdown",
      "metadata": {
        "id": "k1PHBquzxCJR"
      },
      "source": [
        "#### 53. How to convert a float (32 bits) array into an integer (32 bits) in place? \n",
        "(**hint**: astype(copy=False))"
      ]
    },
    {
      "cell_type": "code",
      "execution_count": null,
      "metadata": {
        "id": "yMrx4VF9xCJR",
        "colab": {
          "base_uri": "https://localhost:8080/"
        },
        "outputId": "28b41d84-7547-4ff4-ee65-7b3d1c327a65"
      },
      "outputs": [
        {
          "output_type": "stream",
          "name": "stdout",
          "text": [
            "[2. 1. 2. 3. 4. 5. 6. 7. 8. 9.]\n"
          ]
        }
      ],
      "source": [
        "fl_arr = np.arange(10, dtype=np.float32)\n",
        "arr = fl_arr.astype(np.float32, copy=False)\n",
        "arr[0] = 2\n",
        "print(fl_arr)"
      ]
    },
    {
      "cell_type": "markdown",
      "metadata": {
        "id": "O0JdoL6-xCJR"
      },
      "source": [
        "#### 54. How to read the following file? (★★☆) \n",
        "(**hint**: np.genfromtxt)"
      ]
    },
    {
      "cell_type": "markdown",
      "metadata": {
        "id": "zF9rM1IlxCJR"
      },
      "source": [
        "```\n",
        "1, 2, 3, 4, 5\n",
        "6,  ,  , 7, 8\n",
        " ,  , 9,10,11\n",
        "```"
      ]
    },
    {
      "cell_type": "code",
      "execution_count": null,
      "metadata": {
        "id": "Wg9rMwBgxCJR",
        "colab": {
          "base_uri": "https://localhost:8080/"
        },
        "outputId": "4d0d67ee-324f-47e1-e2c1-640849ee0631"
      },
      "outputs": [
        {
          "output_type": "stream",
          "name": "stdout",
          "text": [
            "[[ 1  2  3  4  5]\n",
            " [ 6 -1 -1  7  8]\n",
            " [-1 -1  9 10 11]]\n"
          ]
        },
        {
          "output_type": "stream",
          "name": "stderr",
          "text": [
            "/usr/local/lib/python3.7/dist-packages/ipykernel_launcher.py:5: DeprecationWarning: `np.int` is a deprecated alias for the builtin `int`. To silence this warning, use `int` by itself. Doing this will not modify any behavior and is safe. When replacing `np.int`, you may wish to use e.g. `np.int64` or `np.int32` to specify the precision. If you wish to review your current use, check the release note link for additional information.\n",
            "Deprecated in NumPy 1.20; for more details and guidance: https://numpy.org/devdocs/release/1.20.0-notes.html#deprecations\n",
            "  \"\"\"\n"
          ]
        }
      ],
      "source": [
        "from io import StringIO\n",
        "f = StringIO(\"\"\"1, 2, 3, 4, 5\\n\n",
        "                6,  ,  , 7, 8\\n\n",
        "                 ,  , 9,10,11\\n\"\"\")\n",
        "r = np.genfromtxt(f, delimiter=\",\", dtype=np.int)\n",
        "print(r)"
      ]
    },
    {
      "cell_type": "markdown",
      "metadata": {
        "id": "C_4ZhSNexCJR"
      },
      "source": [
        "#### 55. What is the equivalent of enumerate for numpy arrays? (★★☆) \n",
        "(**hint**: np.ndenumerate, np.ndindex)"
      ]
    },
    {
      "cell_type": "code",
      "execution_count": null,
      "metadata": {
        "id": "C1qqCSIbxCJS",
        "colab": {
          "base_uri": "https://localhost:8080/"
        },
        "outputId": "e88c7e20-6152-44df-df33-5d18ca30630a"
      },
      "outputs": [
        {
          "output_type": "stream",
          "name": "stdout",
          "text": [
            "(0, 0) 0\n",
            "(0, 1) 1\n",
            "(1, 0) 2\n",
            "(1, 1) 3\n",
            "(0, 0) 0\n",
            "(0, 1) 1\n",
            "(1, 0) 2\n",
            "(1, 1) 3\n"
          ]
        }
      ],
      "source": [
        "arr = np.arange(4).reshape(2,2)\n",
        "for index, value in np.ndenumerate(arr):\n",
        "    print(index, value)\n",
        "for index in np.ndindex(arr.shape):\n",
        "    print(index, arr[index])"
      ]
    },
    {
      "cell_type": "markdown",
      "metadata": {
        "id": "OegnND14xCJS"
      },
      "source": [
        "#### 56. Generate a generic 2D Gaussian-like array (★★☆) \n",
        "(**hint**: np.meshgrid, np.exp)"
      ]
    },
    {
      "cell_type": "code",
      "execution_count": null,
      "metadata": {
        "id": "MMf6qcK3xCJS"
      },
      "outputs": [],
      "source": [
        "sigma,myu = 1.0,0.0\n",
        "\n",
        "X,Y  = np.meshgrid(np.linspace(-1,1,10),np.linspace(-1,1,10))\n",
        "D = np.sqrt(X**2+Y**2)\n",
        "G = np.exp(-(D-myu)**2/(2*sigma**2))\n",
        "print(G)"
      ]
    },
    {
      "cell_type": "markdown",
      "metadata": {
        "id": "JYEttUnWxCJS"
      },
      "source": [
        "#### 57. How to randomly place p elements in a 2D array? (★★☆) \n",
        "(**hint**: np.put, np.random.choice)"
      ]
    },
    {
      "cell_type": "code",
      "execution_count": null,
      "metadata": {
        "id": "eyb26VyGxCJS",
        "colab": {
          "base_uri": "https://localhost:8080/"
        },
        "outputId": "8a9887a7-94a9-4ad8-ce7e-2a43f54c6cd8"
      },
      "outputs": [
        {
          "output_type": "stream",
          "name": "stdout",
          "text": [
            "[[0. 0. 0. 0. 0. 0. 0. 0. 0. 0.]\n",
            " [0. 0. 0. 0. 0. 0. 0. 0. 0. 0.]\n",
            " [0. 0. 0. 0. 0. 0. 0. 0. 0. 0.]\n",
            " [0. 0. 0. 0. 0. 0. 0. 0. 0. 0.]\n",
            " [0. 0. 0. 0. 0. 0. 0. 0. 0. 0.]\n",
            " [0. 0. 0. 0. 0. 0. 0. 0. 0. 0.]\n",
            " [0. 0. 0. 0. 5. 0. 0. 0. 0. 0.]\n",
            " [0. 0. 0. 0. 0. 0. 0. 5. 0. 0.]\n",
            " [0. 0. 0. 0. 5. 0. 0. 0. 0. 0.]\n",
            " [0. 0. 0. 0. 0. 0. 0. 0. 0. 0.]]\n"
          ]
        }
      ],
      "source": [
        "n = 10\n",
        "p = 3\n",
        "arr = np.zeros((n,n))\n",
        "np.put(arr, np.random.choice(range(n*n), p, replace=False),5)\n",
        "print(arr)"
      ]
    },
    {
      "cell_type": "markdown",
      "metadata": {
        "id": "MehgdpHFxCJS"
      },
      "source": [
        "#### 58. Subtract the mean of each row of a matrix (★★☆) \n",
        "(**hint**: mean(axis=,keepdims=))"
      ]
    },
    {
      "cell_type": "code",
      "execution_count": null,
      "metadata": {
        "id": "PaktXmKhxCJS",
        "colab": {
          "base_uri": "https://localhost:8080/"
        },
        "outputId": "dc9603a9-e323-4022-b2da-ee4dd17010aa"
      },
      "outputs": [
        {
          "output_type": "stream",
          "name": "stdout",
          "text": [
            "[[-0.12602422  0.04936612  0.3192117  -0.14469744 -0.09785615]\n",
            " [-0.36697832 -0.27368655  0.3894499   0.29522927 -0.04401429]\n",
            " [ 0.40294481 -0.24708461 -0.31784178 -0.03744186  0.19942345]\n",
            " [-0.36645415 -0.0928809   0.45207885  0.22426973 -0.21701354]\n",
            " [ 0.11283443  0.26392693 -0.41685383 -0.38230502  0.4223975 ]]\n"
          ]
        }
      ],
      "source": [
        "r = np.random.rand(5,5)\n",
        "arr = r - r.mean(axis = 1,keepdims = True)\n",
        "print(arr)"
      ]
    },
    {
      "cell_type": "markdown",
      "metadata": {
        "id": "5EuqZQg6xCJS"
      },
      "source": [
        "#### 59. How to sort an array by the nth column? (★★☆) \n",
        "(**hint**: argsort)"
      ]
    },
    {
      "cell_type": "code",
      "execution_count": null,
      "metadata": {
        "id": "GuCfMKiixCJS",
        "colab": {
          "base_uri": "https://localhost:8080/"
        },
        "outputId": "6babee6f-646c-411c-ee8a-107d84b5cc9f"
      },
      "outputs": [
        {
          "output_type": "stream",
          "name": "stdout",
          "text": [
            "[[4 9 3 5 0]\n",
            " [4 9 9 8 1]\n",
            " [7 3 9 2 7]\n",
            " [2 2 8 3 0]\n",
            " [9 0 4 1 5]]\n",
            "[[9 5 3 0 4]\n",
            " [0 1 4 5 9]\n",
            " [3 2 9 7 7]\n",
            " [2 3 8 0 2]\n",
            " [9 8 9 1 4]]\n"
          ]
        }
      ],
      "source": [
        "arr = np.random.randint(0,10,(5,5))\n",
        "print(arr[(-arr)[:,1].argsort()])\n",
        "print(arr[:,arr[1,:].argsort()])"
      ]
    },
    {
      "cell_type": "markdown",
      "metadata": {
        "id": "OQTFEKTRxCJS"
      },
      "source": [
        "#### 60. How to tell if a given 2D array has null columns? (★★☆) \n",
        "(**hint**: any, ~)"
      ]
    },
    {
      "cell_type": "code",
      "execution_count": null,
      "metadata": {
        "id": "N_lv5VG2xCJT",
        "colab": {
          "base_uri": "https://localhost:8080/"
        },
        "outputId": "8aecdab7-2461-4440-aa20-7d3ea56145d7"
      },
      "outputs": [
        {
          "output_type": "stream",
          "name": "stdout",
          "text": [
            "[ True  True  True  True  True]\n",
            "[[False False False False  True]\n",
            " [ True False False False False]\n",
            " [False False False  True False]\n",
            " [False False False False  True]\n",
            " [False False False False False]]\n"
          ]
        }
      ],
      "source": [
        "arr = np.random.randint(0,10,(5,5))\n",
        "arr = arr.astype(bool)\n",
        "print((arr).any(axis = 0))\n",
        "print(~arr)"
      ]
    },
    {
      "cell_type": "markdown",
      "metadata": {
        "id": "7zk2NJZYxCJT"
      },
      "source": [
        "#### 61. Find the nearest value from a given value in an array (★★☆) \n",
        "(**hint**: np.abs, argmin, flat)"
      ]
    },
    {
      "cell_type": "code",
      "execution_count": null,
      "metadata": {
        "id": "2n-qWFsZxCJT",
        "colab": {
          "base_uri": "https://localhost:8080/"
        },
        "outputId": "72902aab-3660-4dae-ac5e-d618c94bbd86"
      },
      "outputs": [
        {
          "output_type": "stream",
          "name": "stdout",
          "text": [
            "0.5154072095397374\n"
          ]
        }
      ],
      "source": [
        "arr = np.random.uniform(0,1,10)\n",
        "z = 0.5\n",
        "m = arr.flat[np.abs(arr - z).argmin()]\n",
        "print(m)"
      ]
    },
    {
      "cell_type": "markdown",
      "metadata": {
        "id": "CtIV8nqJxCJT"
      },
      "source": [
        "#### 62. Considering two arrays with shape (1,3) and (3,1), how to compute their sum using an iterator? (★★☆) \n",
        "(**hint**: np.nditer)"
      ]
    },
    {
      "cell_type": "code",
      "execution_count": null,
      "metadata": {
        "id": "9RmczF-nxCJT",
        "colab": {
          "base_uri": "https://localhost:8080/"
        },
        "outputId": "cb224d11-f2df-4205-aeb0-6231c42701cd"
      },
      "outputs": [
        {
          "output_type": "stream",
          "name": "stdout",
          "text": [
            "[[0 1 2]\n",
            " [1 2 3]\n",
            " [2 3 4]]\n"
          ]
        }
      ],
      "source": [
        "A = np.arange(3).reshape(3,1)\n",
        "B = np.arange(3).reshape(1,3)\n",
        "it = np.nditer([A,B,None])\n",
        "for x,y,z in it: z[...] = x + y\n",
        "print(it.operands[2])"
      ]
    },
    {
      "cell_type": "markdown",
      "metadata": {
        "id": "QKHRNzVexCJT"
      },
      "source": [
        "#### 63. Create an array class that has a name attribute (★★☆) \n",
        "(**hint**: class method)"
      ]
    },
    {
      "cell_type": "code",
      "execution_count": null,
      "metadata": {
        "id": "X0nBYA_oxCJT",
        "colab": {
          "base_uri": "https://localhost:8080/"
        },
        "outputId": "6d293805-c3c6-4d15-9de8-48957314bc28"
      },
      "outputs": [
        {
          "output_type": "stream",
          "name": "stdout",
          "text": [
            "range_10\n"
          ]
        }
      ],
      "source": [
        "class NamedArray(np.ndarray):\n",
        "    def __new__(cls, array, name=\"no name\"):\n",
        "        obj = np.asarray(array).view(cls)\n",
        "        obj.name = name\n",
        "        return obj\n",
        "    def __array_finalize__(self, obj):\n",
        "        if obj is None: return\n",
        "        self.info = getattr(obj, 'name', \"no name\")\n",
        "\n",
        "Z = NamedArray(np.arange(10), \"range_10\")\n",
        "print (Z.name)"
      ]
    },
    {
      "cell_type": "markdown",
      "metadata": {
        "id": "JAkXjYOJxCJT"
      },
      "source": [
        "#### 64. Consider a given vector, how to add 1 to each element indexed by a second vector (be careful with repeated indices)? (★★★) \n",
        "(**hint**: np.bincount | np.add.at)"
      ]
    },
    {
      "cell_type": "code",
      "execution_count": null,
      "metadata": {
        "id": "WX9FBKNAxCJT",
        "colab": {
          "base_uri": "https://localhost:8080/"
        },
        "outputId": "a249f9d5-f158-4432-e79d-694bffe34313"
      },
      "outputs": [
        {
          "output_type": "stream",
          "name": "stdout",
          "text": [
            "[5. 5. 2. 3. 4. 4. 1. 1. 1. 4.]\n"
          ]
        }
      ],
      "source": [
        "v1 = np.ones(10)\n",
        "i = np.random.randint(0,len(v1),20)\n",
        "v1 += np.bincount(i, minlength=len(v1))\n",
        "print(v1)\n",
        "\n",
        "#or\n",
        "\n",
        "# np.add.at(Z, I, 1)\n",
        "# print(Z)"
      ]
    },
    {
      "cell_type": "markdown",
      "metadata": {
        "id": "jGVYQHNAxCJT"
      },
      "source": [
        "#### 65. How to accumulate elements of a vector (X) to an array (F) based on an index list (I)? (★★★) \n",
        "(**hint**: np.bincount)"
      ]
    },
    {
      "cell_type": "code",
      "execution_count": null,
      "metadata": {
        "id": "UgWjjmm4xCJT",
        "colab": {
          "base_uri": "https://localhost:8080/"
        },
        "outputId": "833b2819-92f0-47a4-cb86-8aea26fbe748"
      },
      "outputs": [
        {
          "output_type": "stream",
          "name": "stdout",
          "text": [
            "[0. 7. 0. 6. 5. 0. 0. 0. 0. 3.]\n"
          ]
        }
      ],
      "source": [
        "X = [1,2,3,4,5,6]\n",
        "I = [1,3,9,3,4,1]\n",
        "F = np.bincount(I,X)\n",
        "print(F)"
      ]
    },
    {
      "cell_type": "markdown",
      "metadata": {
        "id": "lhEalLY2xCJU"
      },
      "source": [
        "#### 66. Considering a (w,h,3) image of (dtype=ubyte), compute the number of unique colors (★★★) \n",
        "(**hint**: np.unique)"
      ]
    },
    {
      "cell_type": "code",
      "execution_count": null,
      "metadata": {
        "id": "jw1_4I6AxCJU",
        "colab": {
          "base_uri": "https://localhost:8080/"
        },
        "outputId": "7e899454-ca7f-4f4d-90fe-db6ab54e0ec7"
      },
      "outputs": [
        {
          "output_type": "stream",
          "name": "stdout",
          "text": [
            "64\n"
          ]
        }
      ],
      "source": [
        "w, h = 256, 256\n",
        "I = np.random.randint(0, 4, (h, w, 3)).astype(np.ubyte)\n",
        "colors = np.unique(I.reshape(-1, 3), axis=0)\n",
        "n = len(colors)\n",
        "print(n)"
      ]
    },
    {
      "cell_type": "markdown",
      "metadata": {
        "id": "SUf9bhxTxCJU"
      },
      "source": [
        "#### 67. Considering a four dimensions array, how to get sum over the last two axis at once? (★★★) \n",
        "(**hint**: sum(axis=(-2,-1)))"
      ]
    },
    {
      "cell_type": "code",
      "execution_count": null,
      "metadata": {
        "id": "_Gc14aMAxCJU",
        "colab": {
          "base_uri": "https://localhost:8080/"
        },
        "outputId": "4cff4dac-38b1-4bfa-c54a-65bd07d11f17"
      },
      "outputs": [
        {
          "output_type": "stream",
          "name": "stdout",
          "text": [
            "[[60 46 53 49]\n",
            " [70 42 57 41]\n",
            " [66 41 57 44]]\n"
          ]
        }
      ],
      "source": [
        "A = np.random.randint(0,10,(3,4,3,4))\n",
        "sum = A.sum(axis=(-2,-1))\n",
        "print(sum)"
      ]
    },
    {
      "cell_type": "markdown",
      "metadata": {
        "id": "ND5kHT2KxCJU"
      },
      "source": [
        "#### 68. Considering a one-dimensional vector D, how to compute means of subsets of D using a vector S of same size describing subset  indices? (★★★) \n",
        "(**hint**: np.bincount)"
      ]
    },
    {
      "cell_type": "code",
      "execution_count": null,
      "metadata": {
        "id": "zsmwBpVxxCJU",
        "colab": {
          "base_uri": "https://localhost:8080/"
        },
        "outputId": "621bc036-38c8-41f8-e956-f2ed7ac962ea"
      },
      "outputs": [
        {
          "output_type": "stream",
          "name": "stdout",
          "text": [
            "[0.64597633 0.39414856 0.49146486 0.54233634 0.55270296 0.50244051\n",
            " 0.62996255 0.40204008 0.5875604  0.43594673]\n"
          ]
        }
      ],
      "source": [
        "D = np.random.uniform(0,1,100)\n",
        "S = np.random.randint(0,10,100)\n",
        "D_sums = np.bincount(S, weights=D)\n",
        "D_counts = np.bincount(S)\n",
        "D_means = D_sums / D_counts\n",
        "print(D_means)"
      ]
    },
    {
      "cell_type": "markdown",
      "metadata": {
        "id": "s7vYTFHzxCJU"
      },
      "source": [
        "#### 69. How to get the diagonal of a dot product? (★★★) \n",
        "(**hint**: np.diag)"
      ]
    },
    {
      "cell_type": "code",
      "execution_count": null,
      "metadata": {
        "id": "d-_UnTpyxCJU",
        "colab": {
          "base_uri": "https://localhost:8080/"
        },
        "outputId": "c034bb8f-3077-4358-eeed-9264ac890b4d"
      },
      "outputs": [
        {
          "output_type": "execute_result",
          "data": {
            "text/plain": [
              "array([1.5725133 , 2.05649869, 1.20964015, 1.33838893, 1.65137442])"
            ]
          },
          "metadata": {},
          "execution_count": 21
        }
      ],
      "source": [
        "A = np.random.uniform(0,1,(5,5))\n",
        "B = np.random.uniform(0,1,(5,5))\n",
        "np.diag(np.dot(A, B))"
      ]
    },
    {
      "cell_type": "markdown",
      "metadata": {
        "id": "BSJCGgrjxCJU"
      },
      "source": [
        "#### 70. Consider the vector \\[1, 2, 3, 4, 5\\], how to build a new vector with 3 consecutive zeros interleaved between each value? (★★★) \n",
        "(**hint**: array\\[::4\\])"
      ]
    },
    {
      "cell_type": "code",
      "execution_count": null,
      "metadata": {
        "id": "XljQsBAqxCJV",
        "colab": {
          "base_uri": "https://localhost:8080/"
        },
        "outputId": "a459bf57-74f3-4c3f-f1a3-5a586ae6c862"
      },
      "outputs": [
        {
          "output_type": "stream",
          "name": "stdout",
          "text": [
            "[1. 0. 0. 0. 2. 0. 0. 0. 3. 0. 0. 0. 4. 0. 0. 0. 5.]\n"
          ]
        }
      ],
      "source": [
        "arr = np.array([1,2,3,4,5])\n",
        "z = 3\n",
        "arr_z = np.zeros(len(arr) + (len(arr)-1)*(z))\n",
        "arr_z[::z+1] = arr\n",
        "print(arr_z)"
      ]
    },
    {
      "cell_type": "markdown",
      "metadata": {
        "id": "Ckt01I5TxCJV"
      },
      "source": [
        "#### 71. Consider an array of dimension (5,5,3), how to mulitply it by an array with dimensions (5,5)? (★★★) \n",
        "(**hint**: array\\[:, :, None\\])"
      ]
    },
    {
      "cell_type": "code",
      "execution_count": null,
      "metadata": {
        "collapsed": true,
        "id": "7GhtIj7cxCJW",
        "colab": {
          "base_uri": "https://localhost:8080/"
        },
        "outputId": "33bf8634-3978-41ed-d194-2eb11f9eff67"
      },
      "outputs": [
        {
          "output_type": "stream",
          "name": "stdout",
          "text": [
            "[[[2. 2. 2.]\n",
            "  [2. 2. 2.]\n",
            "  [2. 2. 2.]\n",
            "  [2. 2. 2.]\n",
            "  [2. 2. 2.]]\n",
            "\n",
            " [[2. 2. 2.]\n",
            "  [2. 2. 2.]\n",
            "  [2. 2. 2.]\n",
            "  [2. 2. 2.]\n",
            "  [2. 2. 2.]]\n",
            "\n",
            " [[2. 2. 2.]\n",
            "  [2. 2. 2.]\n",
            "  [2. 2. 2.]\n",
            "  [2. 2. 2.]\n",
            "  [2. 2. 2.]]\n",
            "\n",
            " [[2. 2. 2.]\n",
            "  [2. 2. 2.]\n",
            "  [2. 2. 2.]\n",
            "  [2. 2. 2.]\n",
            "  [2. 2. 2.]]\n",
            "\n",
            " [[2. 2. 2.]\n",
            "  [2. 2. 2.]\n",
            "  [2. 2. 2.]\n",
            "  [2. 2. 2.]\n",
            "  [2. 2. 2.]]]\n"
          ]
        }
      ],
      "source": [
        "A = np.ones((5,5,3))\n",
        "B = 2*np.ones((5,5))\n",
        "print(A * B[:,:,None])"
      ]
    },
    {
      "cell_type": "markdown",
      "metadata": {
        "id": "fx55QYa0xCJX"
      },
      "source": [
        "#### 72. How to swap two rows of an array? (★★★) \n",
        "(**hint**: array\\[\\[\\]\\] = array\\[\\[\\]\\])"
      ]
    },
    {
      "cell_type": "code",
      "execution_count": null,
      "metadata": {
        "id": "tzhvd-EjxCJX",
        "colab": {
          "base_uri": "https://localhost:8080/"
        },
        "outputId": "6af7c4db-bcb2-4dcd-9450-4b8cbc31a9a8"
      },
      "outputs": [
        {
          "output_type": "stream",
          "name": "stdout",
          "text": [
            "[[ 4  5  6  7]\n",
            " [ 0  1  2  3]\n",
            " [ 8  9 10 11]\n",
            " [12 13 14 15]]\n"
          ]
        }
      ],
      "source": [
        "arr = np.arange(16).reshape(4,4)\n",
        "arr[[0,1]] = arr[[1,0]]\n",
        "print(arr)"
      ]
    },
    {
      "cell_type": "markdown",
      "metadata": {
        "id": "OhSdqqpYxCJX"
      },
      "source": [
        "#### 73. Consider a set of 10 triplets describing 10 triangles (with shared vertices), find the set of unique line segments composing all the  triangles (★★★) \n",
        "(**hint**: repeat, np.roll, np.sort, view, np.unique)"
      ]
    },
    {
      "cell_type": "code",
      "execution_count": null,
      "metadata": {
        "id": "kprnKbHWxCJY",
        "colab": {
          "base_uri": "https://localhost:8080/"
        },
        "outputId": "b73b87e9-70c2-447d-a78f-54938c6c10c2"
      },
      "outputs": [
        {
          "output_type": "stream",
          "name": "stdout",
          "text": [
            "[( 3, 46) ( 3, 96) ( 6, 13) ( 6, 54) ( 7, 46) ( 7, 82) ( 8, 50) ( 8, 90)\n",
            " (10, 13) (10, 76) (13, 54) (13, 76) (14, 82) (14, 99) (16, 29) (16, 41)\n",
            " (17, 25) (17, 40) (18, 50) (18, 77) (24, 69) (24, 84) (25, 40) (29, 41)\n",
            " (46, 82) (46, 96) (50, 77) (50, 90) (69, 84) (82, 99)]\n"
          ]
        }
      ],
      "source": [
        "faces = np.random.randint(0,100,(10,3))\n",
        "F = np.roll(faces.repeat(2,axis=1),-1,axis=1)\n",
        "F = F.reshape(len(F)*3,2)\n",
        "F = np.sort(F,axis=1)\n",
        "G = F.view( dtype=[('p0',F.dtype),('p1',F.dtype)] )\n",
        "G = np.unique(G)\n",
        "print(G)"
      ]
    },
    {
      "cell_type": "markdown",
      "metadata": {
        "id": "OQS_ZfPUxCJY"
      },
      "source": [
        "#### 74. Given an array C that is a bincount, how to produce an array A such that np.bincount(A) == C? (★★★) \n",
        "(**hint**: np.repeat)"
      ]
    },
    {
      "cell_type": "code",
      "execution_count": null,
      "metadata": {
        "id": "Tzjx0KoqxCJY",
        "colab": {
          "base_uri": "https://localhost:8080/"
        },
        "outputId": "80cc8ef1-e430-4303-fe6a-74ef8d3f70d1"
      },
      "outputs": [
        {
          "output_type": "stream",
          "name": "stdout",
          "text": [
            "[1 1 2 3 4 4 6]\n"
          ]
        }
      ],
      "source": [
        "C = np.bincount([1,1,2,3,4,4,6])\n",
        "A = np.repeat(np.arange(len(C)), C)\n",
        "print(A)"
      ]
    },
    {
      "cell_type": "markdown",
      "metadata": {
        "id": "QSsyiv_YxCJY"
      },
      "source": [
        "#### 75. How to compute averages using a sliding window over an array? (★★★) \n",
        "(**hint**: np.cumsum)"
      ]
    },
    {
      "cell_type": "code",
      "execution_count": null,
      "metadata": {
        "id": "2Jh47864xCJZ",
        "colab": {
          "base_uri": "https://localhost:8080/"
        },
        "outputId": "90450aa7-0a98-4162-a5e9-f0886723d11c"
      },
      "outputs": [
        {
          "output_type": "stream",
          "name": "stdout",
          "text": [
            "[1. 2. 3. 4. 5. 6. 7. 8.]\n"
          ]
        }
      ],
      "source": [
        "def average(a, n=3) :\n",
        "    ret = np.cumsum(a, dtype=float)\n",
        "    ret[n:] = ret[n:] - ret[:-n]\n",
        "    return ret[n - 1:] / n\n",
        "Z = np.arange(10)\n",
        "print(average(Z, n=3))"
      ]
    },
    {
      "cell_type": "markdown",
      "metadata": {
        "id": "mCZHVkbLxCJZ"
      },
      "source": [
        "#### 76. Consider a one-dimensional array Z, build a two-dimensional array whose first row is (Z\\[0\\],Z\\[1\\],Z\\[2\\]) and each subsequent row is  shifted by 1 (last row should be (Z\\[-3\\],Z\\[-2\\],Z\\[-1\\]) (★★★) \n",
        "(**hint**: from numpy.lib import stride_tricks)"
      ]
    },
    {
      "cell_type": "code",
      "execution_count": null,
      "metadata": {
        "id": "PhDZgpfAxCJZ",
        "colab": {
          "base_uri": "https://localhost:8080/"
        },
        "outputId": "7ad239da-6a52-4a2a-b2c4-f6361bf150f7"
      },
      "outputs": [
        {
          "output_type": "stream",
          "name": "stdout",
          "text": [
            "[[0 1 2]\n",
            " [1 2 3]\n",
            " [2 3 4]\n",
            " [3 4 5]\n",
            " [4 5 6]\n",
            " [5 6 7]\n",
            " [6 7 8]\n",
            " [7 8 9]]\n"
          ]
        }
      ],
      "source": [
        "from numpy.lib import stride_tricks\n",
        "\n",
        "def rolling(a, window):\n",
        "    shape = (a.size - window + 1, window)\n",
        "    strides = (a.strides[0], a.strides[0])\n",
        "    return stride_tricks.as_strided(a, shape=shape, strides=strides)\n",
        "Z = rolling(np.arange(10), 3)\n",
        "print(Z)"
      ]
    },
    {
      "cell_type": "markdown",
      "metadata": {
        "id": "V9iG9VfTxCJa"
      },
      "source": [
        "#### 77. How to negate a boolean, or to change the sign of a float inplace? (★★★) \n",
        "(**hint**: np.logical_not, np.negative)"
      ]
    },
    {
      "cell_type": "code",
      "execution_count": null,
      "metadata": {
        "id": "DRdznDsPxCJa",
        "colab": {
          "base_uri": "https://localhost:8080/"
        },
        "outputId": "aa6ec1ac-8bfa-44bd-9407-b54aedc5b35d"
      },
      "outputs": [
        {
          "output_type": "execute_result",
          "data": {
            "text/plain": [
              "array([ 0.73731326,  0.79481813,  0.63170477,  0.05368192,  0.64180765,\n",
              "        0.84191117,  0.31227124,  0.21581112, -0.59406934, -0.59754272,\n",
              "       -0.1251728 ,  0.50895152, -0.66360984, -0.19761814,  0.2955673 ,\n",
              "       -0.5188646 ,  0.63171508,  0.14313649,  0.35186841, -0.86567894,\n",
              "        0.66427612,  0.04877067,  0.6853051 ,  0.38395166,  0.92638148,\n",
              "        0.22194766, -0.04907273, -0.33372026, -0.83490887, -0.46811071,\n",
              "       -0.35151682,  0.55113823,  0.55145905,  0.40870426, -0.42500137,\n",
              "       -0.03975181,  0.11068682,  0.22356111, -0.77503295, -0.03404439,\n",
              "       -0.66305502,  0.41773882,  0.07220144, -0.68324692, -0.4095412 ,\n",
              "       -0.56720347,  0.48696934, -0.40641609,  0.76445242,  0.00486332,\n",
              "        0.42016948, -0.14762521, -0.57180532,  0.87744211, -0.81414556,\n",
              "       -0.68643469, -0.03981437,  0.89158955,  0.6540539 ,  0.09553445,\n",
              "       -0.49262614, -0.61821465, -0.75628827, -0.17772766,  0.29430008,\n",
              "       -0.79591677, -0.26042059,  0.86642956,  0.57976334, -0.28935412,\n",
              "       -0.14844134,  0.48843003, -0.0019743 , -0.48721409, -0.77456937,\n",
              "       -0.19234795, -0.23971882, -0.75351406,  0.42709721,  0.71203583,\n",
              "        0.97552908,  0.81235128,  0.25149149, -0.39133549, -0.56738689,\n",
              "       -0.30371494,  0.69815254, -0.28206195,  0.81984108,  0.44008643,\n",
              "       -0.60615888, -0.13501422,  0.05549363, -0.69835124, -0.6124832 ,\n",
              "       -0.64954756, -0.84448719, -0.10926217, -0.96473951, -0.77696766])"
            ]
          },
          "metadata": {},
          "execution_count": 31
        }
      ],
      "source": [
        "Z = np.random.randint(0,2,100)\n",
        "np.logical_not(Z, out=Z)\n",
        "\n",
        "Z = np.random.uniform(-1.0,1.0,100)\n",
        "np.negative(Z, out=Z)"
      ]
    },
    {
      "cell_type": "markdown",
      "metadata": {
        "id": "b7K-RqGLxCJa"
      },
      "source": [
        "#### 78. Consider 2 sets of points P0,P1 describing lines (2d) and a point p, how to compute distance from p to each line i  (P0\\[i\\],P1\\[i\\])? (★★★)"
      ]
    },
    {
      "cell_type": "code",
      "execution_count": null,
      "metadata": {
        "id": "EA66ZsMxxCJa",
        "colab": {
          "base_uri": "https://localhost:8080/"
        },
        "outputId": "4348c2b0-60c3-4597-efc0-f902baef8c70"
      },
      "outputs": [
        {
          "output_type": "stream",
          "name": "stdout",
          "text": [
            "[1.28232841 9.57205561 0.17993522 1.99113418 0.37086069 1.78501839\n",
            " 0.76112898 2.69191527 1.07649523 6.03930095]\n"
          ]
        }
      ],
      "source": [
        "def distance(P0, P1, p):\n",
        "    T = P1 - P0\n",
        "    L = (T**2).sum(axis=1)\n",
        "    U = -((P0[:,0]-p[...,0])*T[:,0] + (P0[:,1]-p[...,1])*T[:,1]) / L\n",
        "    U = U.reshape(len(U),1)\n",
        "    D = P0 + U*T - p\n",
        "    return np.sqrt((D**2).sum(axis=1))\n",
        "\n",
        "P0 = np.random.uniform(-10,10,(10,2))\n",
        "P1 = np.random.uniform(-10,10,(10,2))\n",
        "p  = np.random.uniform(-10,10,( 1,2))\n",
        "print(distance(P0, P1, p))"
      ]
    },
    {
      "cell_type": "markdown",
      "metadata": {
        "id": "pO5A8qNoxCJa"
      },
      "source": [
        "#### 79. Consider 2 sets of points P0,P1 describing lines (2d) and a set of points P, how to compute distance from each point j (P\\[j\\]) to each line i (P0\\[i\\],P1\\[i\\])? (★★★)"
      ]
    },
    {
      "cell_type": "code",
      "execution_count": null,
      "metadata": {
        "id": "mh33EhwSxCJa",
        "colab": {
          "base_uri": "https://localhost:8080/"
        },
        "outputId": "47afc295-11b6-4928-a1c2-b9add09d73a6"
      },
      "outputs": [
        {
          "output_type": "stream",
          "name": "stdout",
          "text": [
            "[[ 4.81908094  4.78870682  1.695662    2.69625374  6.38407974  0.49681373\n",
            "   2.9449199   1.47542934  3.08626312  3.35981693]\n",
            " [11.89187258  2.3453751   1.13338902  8.30546423 13.11188807  4.92644063\n",
            "   0.1979848   0.32827396  0.48661601 10.05930548]\n",
            " [ 1.17056254 17.74964897  5.11879911  0.56110219  1.42686805 13.3364583\n",
            "  14.13599681 10.52381198 14.66420866  9.74397384]\n",
            " [ 2.74415267  4.81303032 10.30935971  6.17586214  1.62382052  2.76728366\n",
            "   3.06818895  6.17443057  2.49204931  4.36168992]\n",
            " [ 1.48860979  3.57637142  6.7773689   1.67280999  2.7269504   2.39822736\n",
            "   1.21059352  3.32083135  0.88180738  5.1143406 ]\n",
            " [ 4.74921443 12.4836761   4.5175181   5.6313856   2.92680233  5.50200451\n",
            "   4.78529615  0.74384579  5.5018928   3.60278348]\n",
            " [ 2.92304029 10.65204389  2.31643983  2.68571446  5.00320902  6.65951838\n",
            "   8.65765795  6.39474028  8.92725187  2.67872492]\n",
            " [ 4.73843253  1.19328379  8.09071447  0.34077574  5.65867112  6.66797383\n",
            "   4.49347395  5.58913389  4.36715608  9.79444396]\n",
            " [ 4.20122252  6.62551496  0.46607451  2.66490387  5.92619612  2.41700482\n",
            "   4.71546508  2.9922535   4.89835829  1.47136889]\n",
            " [ 6.47689155  0.23564611  5.09589274  2.7441231   7.60239193  4.76966958\n",
            "   1.92395662  2.70640087  1.89441376  8.52980917]]\n"
          ]
        }
      ],
      "source": [
        "P0 = np.random.uniform(-10, 10, (10,2))\n",
        "P1 = np.random.uniform(-10,10,(10,2))\n",
        "p = np.random.uniform(-10, 10, (10,2))\n",
        "print(np.array([distance(P0,P1,p_i) for p_i in p]))"
      ]
    },
    {
      "cell_type": "markdown",
      "metadata": {
        "id": "xQGdwTEuxCJa"
      },
      "source": [
        "#### 80. Consider an arbitrary array, write a function that extract a subpart with a fixed shape and centered on a given element (pad with a `fill` value when necessary) (★★★) \n",
        "(**hint**: minimum, maximum)"
      ]
    },
    {
      "cell_type": "code",
      "execution_count": null,
      "metadata": {
        "id": "IrHkLkrsxCJb",
        "colab": {
          "base_uri": "https://localhost:8080/"
        },
        "outputId": "3a67120d-e055-44fb-b96e-c57872bf5d69"
      },
      "outputs": [
        {
          "output_type": "stream",
          "name": "stdout",
          "text": [
            "[[5 1 0 5 8 7 3 3 1 3]\n",
            " [1 7 6 9 0 2 4 9 5 6]\n",
            " [9 1 3 1 5 5 8 4 3 7]\n",
            " [8 7 3 5 5 8 0 7 2 4]\n",
            " [9 1 7 4 8 3 5 6 4 6]\n",
            " [8 9 9 8 6 9 8 0 5 8]\n",
            " [1 7 3 3 5 7 4 0 4 7]\n",
            " [2 9 2 6 9 1 9 2 4 7]\n",
            " [5 9 1 8 8 6 0 0 4 0]\n",
            " [6 8 6 2 1 2 5 4 6 1]]\n",
            "[[0 0 0 0 0]\n",
            " [0 5 1 0 5]\n",
            " [0 1 7 6 9]\n",
            " [0 9 1 3 1]\n",
            " [0 8 7 3 5]]\n"
          ]
        },
        {
          "output_type": "stream",
          "name": "stderr",
          "text": [
            "/usr/local/lib/python3.7/dist-packages/ipykernel_launcher.py:23: FutureWarning: Using a non-tuple sequence for multidimensional indexing is deprecated; use `arr[tuple(seq)]` instead of `arr[seq]`. In the future this will be interpreted as an array index, `arr[np.array(seq)]`, which will result either in an error or a different result.\n"
          ]
        }
      ],
      "source": [
        "Z = np.random.randint(0,10,(10,10))\n",
        "shape = (5,5)\n",
        "fill  = 0\n",
        "position = (1,1)\n",
        "\n",
        "R = np.ones(shape, dtype=Z.dtype)*fill\n",
        "P  = np.array(list(position)).astype(int)\n",
        "Rs = np.array(list(R.shape)).astype(int)\n",
        "Zs = np.array(list(Z.shape)).astype(int)\n",
        "\n",
        "R_start = np.zeros((len(shape),)).astype(int)\n",
        "R_stop  = np.array(list(shape)).astype(int)\n",
        "Z_start = (P-Rs//2)\n",
        "Z_stop  = (P+Rs//2)+Rs%2\n",
        "\n",
        "R_start = (R_start - np.minimum(Z_start,0)).tolist()\n",
        "Z_start = (np.maximum(Z_start,0)).tolist()\n",
        "R_stop = np.maximum(R_start, (R_stop - np.maximum(Z_stop-Zs,0))).tolist()\n",
        "Z_stop = (np.minimum(Z_stop,Zs)).tolist()\n",
        "\n",
        "r = [slice(start,stop) for start,stop in zip(R_start,R_stop)]\n",
        "z = [slice(start,stop) for start,stop in zip(Z_start,Z_stop)]\n",
        "R[r] = Z[z]\n",
        "print(Z)\n",
        "print(R)"
      ]
    },
    {
      "cell_type": "markdown",
      "metadata": {
        "id": "uuM47OQ4xCJb"
      },
      "source": [
        "#### 81. Consider an array Z = \\[1,2,3,4,5,6,7,8,9,10,11,12,13,14\\], how to generate an array R = \\[\\[1,2,3,4\\], \\[2,3,4,5\\], \\[3,4,5,6\\], ..., \\[11,12,13,14\\]\\]? (★★★) \n",
        "(**hint**: stride\\_tricks.as\\_strided)"
      ]
    },
    {
      "cell_type": "code",
      "execution_count": null,
      "metadata": {
        "id": "tFICDR5JxCJb",
        "colab": {
          "base_uri": "https://localhost:8080/"
        },
        "outputId": "0c6adbe5-3582-4209-cfee-6a7188b9520b"
      },
      "outputs": [
        {
          "output_type": "stream",
          "name": "stdout",
          "text": [
            "[[ 1  2  3  4]\n",
            " [ 2  3  4  5]\n",
            " [ 3  4  5  6]\n",
            " [ 4  5  6  7]\n",
            " [ 5  6  7  8]\n",
            " [ 6  7  8  9]\n",
            " [ 7  8  9 10]\n",
            " [ 8  9 10 11]\n",
            " [ 9 10 11 12]\n",
            " [10 11 12 13]\n",
            " [11 12 13 14]]\n"
          ]
        }
      ],
      "source": [
        "arr = np.arange(1,15,dtype=np.uint32)\n",
        "R = stride_tricks.as_strided(arr,(11,4),(4,4))\n",
        "print(R)"
      ]
    },
    {
      "cell_type": "markdown",
      "metadata": {
        "id": "DcrmOuH5xCJb"
      },
      "source": [
        "#### 82. Compute a matrix rank (★★★) \n",
        "(**hint**: np.linalg.svd) (suggestion: np.linalg.svd)"
      ]
    },
    {
      "cell_type": "code",
      "execution_count": null,
      "metadata": {
        "id": "rZ5ZmcLXxCJb",
        "colab": {
          "base_uri": "https://localhost:8080/"
        },
        "outputId": "d18d3360-b2a0-4582-f6d6-edcedb6dee80"
      },
      "outputs": [
        {
          "output_type": "stream",
          "name": "stdout",
          "text": [
            "10\n"
          ]
        }
      ],
      "source": [
        "arr = np.random.uniform(0,1,(10,10))\n",
        "U, S, V = np.linalg.svd(arr)\n",
        "rank = np.sum(S > 1e-10)\n",
        "print(rank)"
      ]
    },
    {
      "cell_type": "markdown",
      "metadata": {
        "id": "fKOAwcatxCJb"
      },
      "source": [
        "#### 83. How to find the most frequent value in an array? \n",
        "(**hint**: np.bincount, argmax)"
      ]
    },
    {
      "cell_type": "code",
      "execution_count": null,
      "metadata": {
        "id": "gIaWmzmPxCJc",
        "colab": {
          "base_uri": "https://localhost:8080/"
        },
        "outputId": "7ef49fa9-cacd-4a3f-b070-3a068deae613"
      },
      "outputs": [
        {
          "output_type": "stream",
          "name": "stdout",
          "text": [
            "9\n"
          ]
        }
      ],
      "source": [
        "arr = np.random.randint(0,10,20)\n",
        "print(np.bincount(arr).argmax())"
      ]
    },
    {
      "cell_type": "markdown",
      "metadata": {
        "id": "GM1vWG3UxCJc"
      },
      "source": [
        "#### 84. Extract all the contiguous 3x3 blocks from a random 10x10 matrix (★★★) \n",
        "(**hint**: stride\\_tricks.as\\_strided)"
      ]
    },
    {
      "cell_type": "code",
      "execution_count": null,
      "metadata": {
        "id": "AVmbJzYpxCJc",
        "colab": {
          "base_uri": "https://localhost:8080/"
        },
        "outputId": "48bb1dc8-3e86-4d5d-da99-83cad51b3464"
      },
      "outputs": [
        {
          "output_type": "stream",
          "name": "stdout",
          "text": [
            "[[[[1 2 3]\n",
            "   [2 2 4]\n",
            "   [4 1 2]]\n",
            "\n",
            "  [[2 3 1]\n",
            "   [2 4 4]\n",
            "   [1 2 4]]\n",
            "\n",
            "  [[3 1 2]\n",
            "   [4 4 4]\n",
            "   [2 4 2]]\n",
            "\n",
            "  [[1 2 2]\n",
            "   [4 4 2]\n",
            "   [4 2 1]]\n",
            "\n",
            "  [[2 2 4]\n",
            "   [4 2 2]\n",
            "   [2 1 4]]\n",
            "\n",
            "  [[2 4 3]\n",
            "   [2 2 4]\n",
            "   [1 4 3]]\n",
            "\n",
            "  [[4 3 3]\n",
            "   [2 4 1]\n",
            "   [4 3 4]]\n",
            "\n",
            "  [[3 3 2]\n",
            "   [4 1 2]\n",
            "   [3 4 2]]]\n",
            "\n",
            "\n",
            " [[[2 2 4]\n",
            "   [4 1 2]\n",
            "   [3 1 1]]\n",
            "\n",
            "  [[2 4 4]\n",
            "   [1 2 4]\n",
            "   [1 1 2]]\n",
            "\n",
            "  [[4 4 4]\n",
            "   [2 4 2]\n",
            "   [1 2 2]]\n",
            "\n",
            "  [[4 4 2]\n",
            "   [4 2 1]\n",
            "   [2 2 2]]\n",
            "\n",
            "  [[4 2 2]\n",
            "   [2 1 4]\n",
            "   [2 2 4]]\n",
            "\n",
            "  [[2 2 4]\n",
            "   [1 4 3]\n",
            "   [2 4 1]]\n",
            "\n",
            "  [[2 4 1]\n",
            "   [4 3 4]\n",
            "   [4 1 2]]\n",
            "\n",
            "  [[4 1 2]\n",
            "   [3 4 2]\n",
            "   [1 2 3]]]\n",
            "\n",
            "\n",
            " [[[4 1 2]\n",
            "   [3 1 1]\n",
            "   [2 1 4]]\n",
            "\n",
            "  [[1 2 4]\n",
            "   [1 1 2]\n",
            "   [1 4 4]]\n",
            "\n",
            "  [[2 4 2]\n",
            "   [1 2 2]\n",
            "   [4 4 1]]\n",
            "\n",
            "  [[4 2 1]\n",
            "   [2 2 2]\n",
            "   [4 1 1]]\n",
            "\n",
            "  [[2 1 4]\n",
            "   [2 2 4]\n",
            "   [1 1 4]]\n",
            "\n",
            "  [[1 4 3]\n",
            "   [2 4 1]\n",
            "   [1 4 4]]\n",
            "\n",
            "  [[4 3 4]\n",
            "   [4 1 2]\n",
            "   [4 4 3]]\n",
            "\n",
            "  [[3 4 2]\n",
            "   [1 2 3]\n",
            "   [4 3 1]]]\n",
            "\n",
            "\n",
            " [[[3 1 1]\n",
            "   [2 1 4]\n",
            "   [1 4 4]]\n",
            "\n",
            "  [[1 1 2]\n",
            "   [1 4 4]\n",
            "   [4 4 4]]\n",
            "\n",
            "  [[1 2 2]\n",
            "   [4 4 1]\n",
            "   [4 4 1]]\n",
            "\n",
            "  [[2 2 2]\n",
            "   [4 1 1]\n",
            "   [4 1 2]]\n",
            "\n",
            "  [[2 2 4]\n",
            "   [1 1 4]\n",
            "   [1 2 1]]\n",
            "\n",
            "  [[2 4 1]\n",
            "   [1 4 4]\n",
            "   [2 1 3]]\n",
            "\n",
            "  [[4 1 2]\n",
            "   [4 4 3]\n",
            "   [1 3 4]]\n",
            "\n",
            "  [[1 2 3]\n",
            "   [4 3 1]\n",
            "   [3 4 1]]]\n",
            "\n",
            "\n",
            " [[[2 1 4]\n",
            "   [1 4 4]\n",
            "   [2 2 2]]\n",
            "\n",
            "  [[1 4 4]\n",
            "   [4 4 4]\n",
            "   [2 2 3]]\n",
            "\n",
            "  [[4 4 1]\n",
            "   [4 4 1]\n",
            "   [2 3 1]]\n",
            "\n",
            "  [[4 1 1]\n",
            "   [4 1 2]\n",
            "   [3 1 2]]\n",
            "\n",
            "  [[1 1 4]\n",
            "   [1 2 1]\n",
            "   [1 2 2]]\n",
            "\n",
            "  [[1 4 4]\n",
            "   [2 1 3]\n",
            "   [2 2 4]]\n",
            "\n",
            "  [[4 4 3]\n",
            "   [1 3 4]\n",
            "   [2 4 3]]\n",
            "\n",
            "  [[4 3 1]\n",
            "   [3 4 1]\n",
            "   [4 3 3]]]\n",
            "\n",
            "\n",
            " [[[1 4 4]\n",
            "   [2 2 2]\n",
            "   [3 3 1]]\n",
            "\n",
            "  [[4 4 4]\n",
            "   [2 2 3]\n",
            "   [3 1 3]]\n",
            "\n",
            "  [[4 4 1]\n",
            "   [2 3 1]\n",
            "   [1 3 2]]\n",
            "\n",
            "  [[4 1 2]\n",
            "   [3 1 2]\n",
            "   [3 2 4]]\n",
            "\n",
            "  [[1 2 1]\n",
            "   [1 2 2]\n",
            "   [2 4 1]]\n",
            "\n",
            "  [[2 1 3]\n",
            "   [2 2 4]\n",
            "   [4 1 2]]\n",
            "\n",
            "  [[1 3 4]\n",
            "   [2 4 3]\n",
            "   [1 2 2]]\n",
            "\n",
            "  [[3 4 1]\n",
            "   [4 3 3]\n",
            "   [2 2 4]]]\n",
            "\n",
            "\n",
            " [[[2 2 2]\n",
            "   [3 3 1]\n",
            "   [1 2 4]]\n",
            "\n",
            "  [[2 2 3]\n",
            "   [3 1 3]\n",
            "   [2 4 3]]\n",
            "\n",
            "  [[2 3 1]\n",
            "   [1 3 2]\n",
            "   [4 3 4]]\n",
            "\n",
            "  [[3 1 2]\n",
            "   [3 2 4]\n",
            "   [3 4 2]]\n",
            "\n",
            "  [[1 2 2]\n",
            "   [2 4 1]\n",
            "   [4 2 4]]\n",
            "\n",
            "  [[2 2 4]\n",
            "   [4 1 2]\n",
            "   [2 4 3]]\n",
            "\n",
            "  [[2 4 3]\n",
            "   [1 2 2]\n",
            "   [4 3 1]]\n",
            "\n",
            "  [[4 3 3]\n",
            "   [2 2 4]\n",
            "   [3 1 4]]]\n",
            "\n",
            "\n",
            " [[[3 3 1]\n",
            "   [1 2 4]\n",
            "   [1 4 2]]\n",
            "\n",
            "  [[3 1 3]\n",
            "   [2 4 3]\n",
            "   [4 2 4]]\n",
            "\n",
            "  [[1 3 2]\n",
            "   [4 3 4]\n",
            "   [2 4 1]]\n",
            "\n",
            "  [[3 2 4]\n",
            "   [3 4 2]\n",
            "   [4 1 2]]\n",
            "\n",
            "  [[2 4 1]\n",
            "   [4 2 4]\n",
            "   [1 2 3]]\n",
            "\n",
            "  [[4 1 2]\n",
            "   [2 4 3]\n",
            "   [2 3 3]]\n",
            "\n",
            "  [[1 2 2]\n",
            "   [4 3 1]\n",
            "   [3 3 1]]\n",
            "\n",
            "  [[2 2 4]\n",
            "   [3 1 4]\n",
            "   [3 1 4]]]]\n"
          ]
        }
      ],
      "source": [
        "arr = np.random.randint(1,5,(10,10))\n",
        "n = 3\n",
        "i = 1 + (arr.shape[0]-3)\n",
        "j = 1 + (arr.shape[1]-3)\n",
        "C = stride_tricks.as_strided(arr, shape=(i, j, n, n), strides=arr.strides + arr.strides)\n",
        "print(C)"
      ]
    },
    {
      "cell_type": "markdown",
      "metadata": {
        "id": "SqY52HwHxCJc"
      },
      "source": [
        "#### 85. Create a 2D array subclass such that Z\\[i,j\\] == Z\\[j,i\\] (★★★) \n",
        "(**hint**: class method)"
      ]
    },
    {
      "cell_type": "code",
      "execution_count": null,
      "metadata": {
        "id": "haQ_gR49xCJc",
        "colab": {
          "base_uri": "https://localhost:8080/"
        },
        "outputId": "a84e4f65-64fd-45da-aa5a-aeec309a1aa2"
      },
      "outputs": [
        {
          "output_type": "stream",
          "name": "stdout",
          "text": [
            "[[ 8 14 11 11  9]\n",
            " [14  8  2 10 10]\n",
            " [11  2  8 42  6]\n",
            " [11 10 42  4  9]\n",
            " [ 9 10  6  9  9]]\n"
          ]
        }
      ],
      "source": [
        "class Symetric(np.ndarray):\n",
        "    def __setitem__(self, index, value):\n",
        "        i,j = index\n",
        "        super(Symetric, self).__setitem__((i,j), value)\n",
        "        super(Symetric, self).__setitem__((j,i), value)\n",
        "\n",
        "def symetric(Z):\n",
        "    return np.asarray(Z + Z.T - np.diag(Z.diagonal())).view(Symetric)\n",
        "\n",
        "S = symetric(np.random.randint(0,10,(5,5)))\n",
        "S[2,3] = 42\n",
        "print(S)"
      ]
    },
    {
      "cell_type": "markdown",
      "metadata": {
        "id": "Epkdf38HxCJc"
      },
      "source": [
        "#### 86. Consider a set of p matrices wich shape (n,n) and a set of p vectors with shape (n,1). How to compute the sum of of the p matrix products at once? (result has shape (n,1)) (★★★) \n",
        "(**hint**: np.tensordot)"
      ]
    },
    {
      "cell_type": "code",
      "execution_count": null,
      "metadata": {
        "id": "_U8AwM_CxCJc",
        "colab": {
          "base_uri": "https://localhost:8080/"
        },
        "outputId": "1fa422ad-91e8-4e26-ebee-cc7b1baae477"
      },
      "outputs": [
        {
          "output_type": "stream",
          "name": "stdout",
          "text": [
            "[[200.]\n",
            " [200.]\n",
            " [200.]\n",
            " [200.]\n",
            " [200.]\n",
            " [200.]\n",
            " [200.]\n",
            " [200.]\n",
            " [200.]\n",
            " [200.]\n",
            " [200.]\n",
            " [200.]\n",
            " [200.]\n",
            " [200.]\n",
            " [200.]\n",
            " [200.]\n",
            " [200.]\n",
            " [200.]\n",
            " [200.]\n",
            " [200.]]\n"
          ]
        }
      ],
      "source": [
        "p, n = 10, 20\n",
        "M = np.ones((p,n,n))\n",
        "V = np.ones((p,n,1))\n",
        "S = np.tensordot(M, V, axes=[[0, 2], [0, 1]])\n",
        "print(S)"
      ]
    },
    {
      "cell_type": "markdown",
      "metadata": {
        "id": "mB-ehmY_xCJc"
      },
      "source": [
        "#### 87. Consider a 16x16 array, how to get the block-sum (block size is 4x4)? (★★★) \n",
        "(**hint**: np.add.reduceat)"
      ]
    },
    {
      "cell_type": "code",
      "execution_count": null,
      "metadata": {
        "id": "REyw9Ta4xCJc",
        "colab": {
          "base_uri": "https://localhost:8080/"
        },
        "outputId": "3da5d485-a511-4806-f7be-d7e5d4a0759a"
      },
      "outputs": [
        {
          "output_type": "stream",
          "name": "stdout",
          "text": [
            "[[16. 16. 16. 16.]\n",
            " [16. 16. 16. 16.]\n",
            " [16. 16. 16. 16.]\n",
            " [16. 16. 16. 16.]]\n"
          ]
        }
      ],
      "source": [
        "Z = np.ones((16,16))\n",
        "k = 4\n",
        "S = np.add.reduceat(np.add.reduceat(Z, np.arange(0, Z.shape[0], k), axis=0),\n",
        "                                       np.arange(0, Z.shape[1], k), axis=1)\n",
        "print(S)"
      ]
    },
    {
      "cell_type": "markdown",
      "metadata": {
        "id": "kUr418aXxCJc"
      },
      "source": [
        "#### 88. How to implement the Game of Life using numpy arrays? (★★★)"
      ]
    },
    {
      "cell_type": "code",
      "execution_count": null,
      "metadata": {
        "id": "Y1MVu7jAxCJd",
        "colab": {
          "base_uri": "https://localhost:8080/"
        },
        "outputId": "8a944dd2-01ab-41f2-dcbc-a2cbbf05f174"
      },
      "outputs": [
        {
          "output_type": "stream",
          "name": "stdout",
          "text": [
            "[[0 0 0 ... 0 0 0]\n",
            " [0 0 0 ... 0 0 0]\n",
            " [0 1 1 ... 0 0 0]\n",
            " ...\n",
            " [0 0 0 ... 0 0 0]\n",
            " [0 0 0 ... 0 0 0]\n",
            " [0 0 0 ... 0 0 0]]\n"
          ]
        }
      ],
      "source": [
        "def iterate(Z):\n",
        "    N = (Z[0:-2,0:-2] + Z[0:-2,1:-1] + Z[0:-2,2:] +\n",
        "         Z[1:-1,0:-2]                + Z[1:-1,2:] +\n",
        "         Z[2:  ,0:-2] + Z[2:  ,1:-1] + Z[2:  ,2:])\n",
        "\n",
        "    birth = (N==3) & (Z[1:-1,1:-1]==0)\n",
        "    survive = ((N==2) | (N==3)) & (Z[1:-1,1:-1]==1)\n",
        "    Z[...] = 0\n",
        "    Z[1:-1,1:-1][birth | survive] = 1\n",
        "    return Z\n",
        "\n",
        "Z = np.random.randint(0,2,(50,50))\n",
        "for i in range(100): Z = iterate(Z)\n",
        "print(Z)"
      ]
    },
    {
      "cell_type": "markdown",
      "metadata": {
        "id": "Ooo4nR0axCJd"
      },
      "source": [
        "#### 89. How to get the n largest values of an array (★★★) \n",
        "(**hint**: np.argsort | np.argpartition)"
      ]
    },
    {
      "cell_type": "code",
      "execution_count": null,
      "metadata": {
        "id": "9M-P8XpkxCJd",
        "colab": {
          "base_uri": "https://localhost:8080/"
        },
        "outputId": "eb24e9eb-539e-4442-b6d5-5c5dfe52e491"
      },
      "outputs": [
        {
          "output_type": "stream",
          "name": "stdout",
          "text": [
            "[497 498 499]\n"
          ]
        }
      ],
      "source": [
        "arr = np.arange(500)\n",
        "np.random.shuffle(arr)\n",
        "n = 3\n",
        "print (arr[np.argsort(arr)[-n:]])\n",
        "#print (arr[np.argpartition(-arr,n)[:n]])\n"
      ]
    },
    {
      "cell_type": "markdown",
      "metadata": {
        "id": "TRIti55nxCJd"
      },
      "source": [
        "#### 90. Given an arbitrary number of vectors, build the cartesian product (every combinations of every item) (★★★) \n",
        "(**hint**: np.indices)"
      ]
    },
    {
      "cell_type": "code",
      "execution_count": null,
      "metadata": {
        "scrolled": true,
        "id": "nm_QmHuWxCJd",
        "colab": {
          "base_uri": "https://localhost:8080/"
        },
        "outputId": "b17fb370-2a10-489e-bfa5-14c178f04aa0"
      },
      "outputs": [
        {
          "output_type": "stream",
          "name": "stdout",
          "text": [
            "[[1 4 6]\n",
            " [1 4 7]\n",
            " [1 5 6]\n",
            " [1 5 7]\n",
            " [2 4 6]\n",
            " [2 4 7]\n",
            " [2 5 6]\n",
            " [2 5 7]\n",
            " [3 4 6]\n",
            " [3 4 7]\n",
            " [3 5 6]\n",
            " [3 5 7]]\n"
          ]
        }
      ],
      "source": [
        "def cart_prod(arrays):\n",
        "    arrays = [np.asarray(a) for a in arrays]\n",
        "    shape = (len(x) for x in arrays)\n",
        "\n",
        "    ix = np.indices(shape, dtype=int)\n",
        "    ix = ix.reshape(len(arrays), -1).T\n",
        "\n",
        "    for n, arr in enumerate(arrays):\n",
        "        ix[:, n] = arrays[n][ix[:, n]]\n",
        "\n",
        "    return ix\n",
        "\n",
        "print (cart_prod(([1, 2, 3], [4, 5], [6, 7])))"
      ]
    },
    {
      "cell_type": "markdown",
      "metadata": {
        "id": "YedaDAHAxCJd"
      },
      "source": [
        "#### 91. How to create a record array from a regular array? (★★★) \n",
        "(**hint**: np.core.records.fromarrays)"
      ]
    },
    {
      "cell_type": "code",
      "execution_count": null,
      "metadata": {
        "id": "jSY09cpRxCJd",
        "colab": {
          "base_uri": "https://localhost:8080/"
        },
        "outputId": "8ffd5331-f131-4d91-d5e5-29a3a3843ad3"
      },
      "outputs": [
        {
          "output_type": "stream",
          "name": "stdout",
          "text": [
            "[(b'GUVI', 5.5, 1) (b'geek', 9.7, 2)]\n"
          ]
        }
      ],
      "source": [
        "arr = np.array([(\"GUVI\", 5.5, 1),\n",
        "              (\"geek\", 9.7, 2)])\n",
        "final = np.core.records.fromarrays(arr.T,\n",
        "                               names='col1, col2, col3',\n",
        "                               formats = 'S8, f8, i8')\n",
        "print(final)"
      ]
    },
    {
      "cell_type": "markdown",
      "metadata": {
        "id": "sp12gRM-xCJd"
      },
      "source": [
        "#### 92. Consider a large vector Z, compute Z to the power of 3 using 3 different methods (★★★) \n",
        "(**hint**: np.power, \\*, np.einsum)"
      ]
    },
    {
      "cell_type": "code",
      "execution_count": null,
      "metadata": {
        "id": "DabcNzlMxCJd",
        "colab": {
          "base_uri": "https://localhost:8080/"
        },
        "outputId": "ca79ed9d-bcb3-4ad4-a642-f75074aa8a39"
      },
      "outputs": [
        {
          "output_type": "stream",
          "name": "stdout",
          "text": [
            "2.72 s ± 187 ms per loop (mean ± std. dev. of 7 runs, 1 loop each)\n",
            "80.4 ms ± 748 µs per loop (mean ± std. dev. of 7 runs, 10 loops each)\n",
            "70.9 ms ± 241 µs per loop (mean ± std. dev. of 7 runs, 10 loops each)\n"
          ]
        }
      ],
      "source": [
        "Z = np.random.rand(int(5e7))\n",
        "\n",
        "%timeit np.power(Z,3)\n",
        "%timeit Z*Z*Z\n",
        "%timeit np.einsum('i,i,i->i',Z,Z,Z)"
      ]
    },
    {
      "cell_type": "markdown",
      "metadata": {
        "id": "q77EhcANxCJd"
      },
      "source": [
        "#### 93. Consider two arrays A and B of shape (8,3) and (2,2). How to find rows of A that contain elements of each row of B regardless of the order of the elements in B? (★★★) \n",
        "(**hint**: np.where)"
      ]
    },
    {
      "cell_type": "code",
      "execution_count": null,
      "metadata": {
        "id": "Coi9YXt8xCJe",
        "colab": {
          "base_uri": "https://localhost:8080/"
        },
        "outputId": "786ed6d5-0efd-4e6c-8eac-f1e6d2db2ac3"
      },
      "outputs": [
        {
          "output_type": "stream",
          "name": "stdout",
          "text": [
            "[0 1 2 3 4 6 7]\n"
          ]
        }
      ],
      "source": [
        "A = np.random.randint(0,5,(8,3))\n",
        "B = np.random.randint(0,5,(2,2))\n",
        "\n",
        "C = (A[..., np.newaxis, np.newaxis] == B)\n",
        "rows = np.where(C.any((3,1)).all(1))[0]\n",
        "print(rows)"
      ]
    },
    {
      "cell_type": "markdown",
      "metadata": {
        "id": "I7Klq9YgxCJe"
      },
      "source": [
        "#### 94. Considering a 10x3 matrix, extract rows with unequal values (e.g. \\[2,2,3\\]) (★★★)"
      ]
    },
    {
      "cell_type": "code",
      "execution_count": null,
      "metadata": {
        "id": "KLWV9G6VxCJe",
        "colab": {
          "base_uri": "https://localhost:8080/"
        },
        "outputId": "638632b6-1e44-46cb-d807-a709af43520c"
      },
      "outputs": [
        {
          "output_type": "stream",
          "name": "stdout",
          "text": [
            "[[2 3 4]\n",
            " [0 3 0]\n",
            " [1 2 3]\n",
            " [1 4 3]\n",
            " [1 1 0]\n",
            " [3 2 1]\n",
            " [2 2 4]\n",
            " [1 0 0]\n",
            " [0 1 4]\n",
            " [4 1 0]]\n",
            "[[2 3 4]\n",
            " [0 3 0]\n",
            " [1 2 3]\n",
            " [1 4 3]\n",
            " [1 1 0]\n",
            " [3 2 1]\n",
            " [2 2 4]\n",
            " [1 0 0]\n",
            " [0 1 4]\n",
            " [4 1 0]]\n"
          ]
        }
      ],
      "source": [
        "Z = np.random.randint(0,5,(10,3))\n",
        "print(Z)\n",
        "E = np.all(Z[:,1:] == Z[:,:-1], axis=1)\n",
        "U = Z[~E]\n",
        "print(U)"
      ]
    },
    {
      "cell_type": "markdown",
      "metadata": {
        "id": "0mgYVvYJxCJe"
      },
      "source": [
        "#### 95. Convert a vector of ints into a matrix binary representation (★★★) \n",
        "(**hint**: np.unpackbits)"
      ]
    },
    {
      "cell_type": "code",
      "execution_count": null,
      "metadata": {
        "id": "X-MxcBkzxCJe",
        "colab": {
          "base_uri": "https://localhost:8080/"
        },
        "outputId": "3d8938d7-2d5e-462b-f552-1367c2445e96"
      },
      "outputs": [
        {
          "output_type": "stream",
          "name": "stdout",
          "text": [
            "[[0 0 0 0 0 0 0 0]\n",
            " [0 0 0 0 0 0 1 1]\n",
            " [0 0 0 0 0 0 1 0]\n",
            " [0 0 0 0 0 1 1 1]\n",
            " [0 0 1 0 1 0 0 0]\n",
            " [0 0 0 0 1 1 0 1]\n",
            " [0 0 0 1 0 1 1 1]\n",
            " [0 0 1 0 1 1 0 0]\n",
            " [1 0 0 1 1 1 1 1]]\n"
          ]
        }
      ],
      "source": [
        "v = np.array([0, 3, 2, 7, 40, 13, 23, 44, 159], dtype=np.uint8)\n",
        "print(np.unpackbits(v[:, np.newaxis], axis=1))"
      ]
    },
    {
      "cell_type": "markdown",
      "metadata": {
        "id": "PlLM0NeSxCJe"
      },
      "source": [
        "#### 96. Given a two dimensional array, how to extract unique rows? (★★★) \n",
        "(**hint**: np.ascontiguousarray)"
      ]
    },
    {
      "cell_type": "code",
      "execution_count": null,
      "metadata": {
        "id": "05o5EtYRxCJe",
        "colab": {
          "base_uri": "https://localhost:8080/"
        },
        "outputId": "2d271739-1728-4d21-a147-4f22bd450a11"
      },
      "outputs": [
        {
          "output_type": "stream",
          "name": "stdout",
          "text": [
            "[[0 0 1]\n",
            " [0 1 1]\n",
            " [1 0 1]\n",
            " [1 1 1]]\n"
          ]
        }
      ],
      "source": [
        "Z = np.random.randint(0,2,(6,3))\n",
        "T = np.ascontiguousarray(Z).view(np.dtype((np.void, Z.dtype.itemsize * Z.shape[1])))\n",
        "_, idx = np.unique(T, return_index=True)\n",
        "uZ = Z[idx]\n",
        "print(uZ)"
      ]
    },
    {
      "cell_type": "markdown",
      "metadata": {
        "id": "OYiyCpxGxCJe"
      },
      "source": [
        "#### 97. Considering 2 vectors A & B, write the einsum equivalent of inner, outer, sum, and mul function (★★★) \n",
        "(**hint**: np.einsum)"
      ]
    },
    {
      "cell_type": "code",
      "execution_count": null,
      "metadata": {
        "id": "3qNzet5CxCJf",
        "colab": {
          "base_uri": "https://localhost:8080/"
        },
        "outputId": "2ecadf26-8d17-46eb-a84e-ea712273fa66"
      },
      "outputs": [
        {
          "output_type": "execute_result",
          "data": {
            "text/plain": [
              "array([[0.15263963, 0.38954345, 0.29453645, 0.09916955, 0.36170943],\n",
              "       [0.1001398 , 0.25556143, 0.19323174, 0.06506056, 0.23730082],\n",
              "       [0.12225013, 0.31198803, 0.23589627, 0.07942558, 0.28969557],\n",
              "       [0.21940323, 0.55992724, 0.4233648 , 0.14254568, 0.5199188 ],\n",
              "       [0.09521231, 0.24298625, 0.18372355, 0.06185918, 0.22562417]])"
            ]
          },
          "metadata": {},
          "execution_count": 64
        }
      ],
      "source": [
        "A = np.random.uniform(0,1,5)\n",
        "B = np.random.uniform(0,1,5)\n",
        "\n",
        "np.einsum('i->', A)       \n",
        "np.einsum('i,i->i', A, B) \n",
        "np.einsum('i,i', A, B)    \n",
        "np.einsum('i,j->ij', A, B)"
      ]
    },
    {
      "cell_type": "markdown",
      "metadata": {
        "id": "C5VDmD_4xCJf"
      },
      "source": [
        "#### 98. Considering a path described by two vectors (X,Y), how to sample it using equidistant samples (★★★)? \n",
        "(**hint**: np.cumsum, np.interp)"
      ]
    },
    {
      "cell_type": "code",
      "execution_count": null,
      "metadata": {
        "collapsed": true,
        "id": "6OHHy6qkxCJf"
      },
      "outputs": [],
      "source": [
        "phi = np.arange(0, 10*np.pi, 0.1)\n",
        "a = 1\n",
        "x = a*phi*np.cos(phi)\n",
        "y = a*phi*np.sin(phi)\n",
        "\n",
        "dr = (np.diff(x)**2 + np.diff(y)**2)**.5 \n",
        "r = np.zeros_like(x)\n",
        "r[1:] = np.cumsum(dr)               \n",
        "r_int = np.linspace(0, r.max(), 200) \n",
        "x_int = np.interp(r_int, r, x)       \n",
        "y_int = np.interp(r_int, r, y)"
      ]
    },
    {
      "cell_type": "markdown",
      "metadata": {
        "id": "Y_-CQ1m_xCJf"
      },
      "source": [
        "#### 99. Given an integer n and a 2D array X, select from X the rows which can be interpreted as draws from a multinomial distribution with n degrees, i.e., the rows which only contain integers and which sum to n. (★★★) \n",
        "(**hint**: np.logical\\_and.reduce, np.mod)"
      ]
    },
    {
      "cell_type": "code",
      "execution_count": null,
      "metadata": {
        "id": "XWcPkNOQxCJf",
        "colab": {
          "base_uri": "https://localhost:8080/"
        },
        "outputId": "6500610e-cb3d-4e08-9d50-01adf101b7fc"
      },
      "outputs": [
        {
          "output_type": "stream",
          "name": "stdout",
          "text": [
            "[[2. 0. 1. 1.]]\n"
          ]
        }
      ],
      "source": [
        "X = np.asarray([[1.0, 0.0, 3.0, 8.0],\n",
        "                [2.0, 0.0, 1.0, 1.0],\n",
        "                [1.5, 2.5, 1.0, 0.0]])\n",
        "n = 4\n",
        "M = np.logical_and.reduce(np.mod(X, 1) == 0, axis=-1)\n",
        "M &= (X.sum(axis=-1) == n)\n",
        "print(X[M])"
      ]
    },
    {
      "cell_type": "markdown",
      "metadata": {
        "id": "yJz7QZuQxCJf"
      },
      "source": [
        "#### 100. Compute bootstrapped 95% confidence intervals for the mean of a 1D array X (i.e., resample the elements of an array with replacement N times, compute the mean of each sample, and then compute percentiles over the means). (★★★) \n",
        "(**hint**: np.percentile)"
      ]
    },
    {
      "cell_type": "code",
      "execution_count": null,
      "metadata": {
        "id": "eiAkVDfXxCJf",
        "colab": {
          "base_uri": "https://localhost:8080/"
        },
        "outputId": "3f0de27d-4cf5-4639-e684-d85c9e85db89"
      },
      "outputs": [
        {
          "output_type": "stream",
          "name": "stdout",
          "text": [
            "[-0.07214378  0.33982531]\n"
          ]
        }
      ],
      "source": [
        "X = np.random.randn(100) # random 1D array\n",
        "N = 1000 # number of bootstrap samples\n",
        "idx = np.random.randint(0, X.size, (N, X.size))\n",
        "means = X[idx].mean(axis=1)\n",
        "confint = np.percentile(means, [2.5, 97.5])\n",
        "print(confint)"
      ]
    }
  ]
}